{
  "nbformat": 4,
  "nbformat_minor": 0,
  "metadata": {
    "colab": {
      "provenance": [],
      "authorship_tag": "ABX9TyMPJ/J4pfq9vdh+3Pvw6lTo",
      "include_colab_link": true
    },
    "kernelspec": {
      "name": "python3",
      "display_name": "Python 3"
    },
    "language_info": {
      "name": "python"
    }
  },
  "cells": [
    {
      "cell_type": "markdown",
      "metadata": {
        "id": "view-in-github",
        "colab_type": "text"
      },
      "source": [
        "<a href=\"https://colab.research.google.com/github/CervantesMCinthiaK/Metodos-Numericos/blob/main/M%20Muller.ipynb\" target=\"_parent\"><img src=\"https://colab.research.google.com/assets/colab-badge.svg\" alt=\"Open In Colab\"/></a>"
      ]
    },
    {
      "cell_type": "markdown",
      "source": [
        "# Método de Müller\n",
        "Alumna:Cinthia Karina Cervantes Martinez\n"
      ],
      "metadata": {
        "id": "00vLH2JfTOMp"
      }
    },
    {
      "cell_type": "code",
      "source": [
        "#Definimos las bibliotecas que usaremos\n",
        "from math import *\n",
        "import numpy as np"
      ],
      "metadata": {
        "id": "-7kIM8qtTOYB"
      },
      "execution_count": 89,
      "outputs": []
    },
    {
      "cell_type": "code",
      "source": [
        "# Define el polinomio\n",
        "def f(x):\n",
        "    return x**3 + 3*x**2 - 1  #aqui puede cambiar el polinomio"
      ],
      "metadata": {
        "id": "NiyOuo9pUXUH"
      },
      "execution_count": 90,
      "outputs": []
    },
    {
      "cell_type": "code",
      "source": [
        "# Ingreso datos de entrada para los diferentes métodos a trabajar\n",
        "a= float(input(\"Ingrese el valor de P0(Aproximacion inicial): \"))\n",
        "b=float(input(\"Ingrese el valor de P1(Aproximacion inicial ): \"))\n",
        "c=float(input(\"Ingrese el valor de P2(Aproximacion inicial ): \"))\n",
        "# guarda valores iniciales\n",
        "p0 = a\n",
        "p1=b\n",
        "p2=c\n",
        "\n",
        "#guarda valores iniciales del error y del número de iteraciones\n",
        "tol =float(input(\"Ingrese el valor de la tolerancia: \"))\n",
        "nmax = int(input(\"Ingrese el número máximo de iteraciones: \"))\n",
        "error = 100\n",
        "niter = 3 # Inicializa el contador de iteraciones"
      ],
      "metadata": {
        "colab": {
          "base_uri": "https://localhost:8080/"
        },
        "id": "ASUfMIk79y40",
        "outputId": "9eda827f-6d75-4b3d-9bc0-bcb5a9637c49"
      },
      "execution_count": 91,
      "outputs": [
        {
          "name": "stdout",
          "output_type": "stream",
          "text": [
            "Ingrese el valor de P0(Aproximacion inicial): 0\n",
            "Ingrese el valor de P1(Aproximacion inicial ): 1\n",
            "Ingrese el valor de P2(Aproximacion inicial ): 2\n",
            "Ingrese el valor de la tolerancia: 0.0001\n",
            "Ingrese el número máximo de iteraciones: 100\n"
          ]
        }
      ]
    },
    {
      "cell_type": "code",
      "source": [
        "# Método de Müller\n",
        "# Paso 1:\n",
        "#Calculamos h1 y h2\n",
        "h1 = p1 - p0\n",
        "h2 = p2 - p1\n",
        "\n",
        "# Calculamos s1 y s2\n",
        "s1 = (f(p1) - f(p0)) / h1 if h1 != 0 else 0 # se evita la división por cero\n",
        "s2 = (f(p2) - f(p1)) / h2 if h2 != 0 else 0\n",
        "\n",
        "# Calculamos d\n",
        "d = (s2 - s1) / (h2 + h1) if (h2 + h1) != 0 else 0\n",
        "\n",
        "# Se Imprime el encabezados de la tabla\n",
        "print(\"# iter\\t\\t p \\t\\t f(p) \\t\\t error\")\n",
        "#paso 2\n",
        "while niter < nmax:\n",
        "    # Paso 3\n",
        "    b = s2 + h2 * d\n",
        "    discriminante = b**2 - 4 * f(p2) * d  # Cálculo del discriminante\n",
        "\n",
        "    # Maneja el caso negativo\n",
        "    if discriminante < 0:\n",
        "        D = np.sqrt(-discriminante) * 1j  # Es l parte imaginaria\n",
        "    else:\n",
        "        D = np.sqrt(discriminante)  # Es la parte real\n",
        "\n",
        "    # Pao 4: Selección de E\n",
        "    E1 = b + D\n",
        "    E2 = b - D\n",
        "    E = E1 if abs(E1) > abs(E2) else E2 # Seleccionamos el de mayor magnitud\n",
        "\n",
        "    # Paso 5\n",
        "    h = -2 * f(p2) / E\n",
        "    p = p2 + h\n",
        "\n",
        "    # Paso 6 Calcular error\n",
        "    error = abs(h)\n",
        "\n",
        "    #se imprime los resultados en caso de que sea real o imganinario\n",
        "    if np.isreal(p): #si es real\n",
        "        print(\"{0} \\t\\t {1:6.6f} \\t {2:6.6f} \\t {3:6.4f}\".format(niter, p, f(p), error))\n",
        "    else:\n",
        "        # Conjugada el ultimo paso si es complejo\n",
        "        pc = p.real - p.imag * 1j\n",
        "        f_c = f(pc)\n",
        "        # Imprimimos el resultado\n",
        "        print(\"{0} \\t\\t {1:6.6f} \\t {2:6.6f} \\t {3:6.4f}\".format(niter, pc, f_c, error))\n",
        "\n",
        "    # Verificamos la convergencia\n",
        "    if error < tol:\n",
        "        if np.isreal(p):\n",
        "            print(f\"El procedimiento fue exitoso. La raíz es: {p:.6f}\")\n",
        "        else:\n",
        "            print(f\"El procedimiento fue exitoso. La raíz es: {p:.6f} con raíz conjugada: {pc:.6f} y f(conjugada) = {f_c:.6f}\")\n",
        "        break  # Salimos del bucle si se encontró la raíz\n",
        "\n",
        "    # Paso 7: Prepara la siguiente iteración\n",
        "    p0, p1, p2 = p1, p2, p\n",
        "    h1 = p1 - p0\n",
        "    h2 = p2 - p1\n",
        "    s1 = (f(p1) - f(p0)) / h1 if h1 != 0 else 0  # Evitar división por cero\n",
        "    s2 = (f(p2) - f(p1)) / h2 if h2 != 0 else 0  # Evitar división por cero\n",
        "    d = (s2 - s1) / (h2 + h1) if (h2 + h1) != 0 else 0  # Evitar división por cero\n",
        "    niter += 1\n",
        "#Paso 8: Salida\n",
        "if niter >= nmax:\n",
        "    print(f\"El método falló después de {nmax} iteraciones.\")\n"
      ],
      "metadata": {
        "colab": {
          "base_uri": "https://localhost:8080/"
        },
        "id": "IrPMDIUE-3KZ",
        "outputId": "acfc200b-f965-4109-8a84-8e8bc9b94934"
      },
      "execution_count": 92,
      "outputs": [
        {
          "output_type": "stream",
          "name": "stdout",
          "text": [
            "# iter\t\t p \t\t f(p) \t\t error\n",
            "3 \t\t 0.607625 \t 0.331966 \t 1.3924\n",
            "4 \t\t 0.515343 \t -0.066402 \t 0.0923\n",
            "5 \t\t 0.532558 \t 0.001896 \t 0.0172\n",
            "6 \t\t 0.532089 \t 0.000001 \t 0.0005\n",
            "7 \t\t 0.532089 \t 0.000000 \t 0.0000\n",
            "El procedimiento fue exitoso. La raíz es: 0.532089\n"
          ]
        }
      ]
    },
    {
      "cell_type": "markdown",
      "source": [
        "Se tiene un ejemplo del código realizado, es decir, usando el método Müller se resuelve la función $$\n",
        "f(x) = x^3 + 3x^2 - 1\n",
        "$$ con una aproximación $ P_0= 0 ,  P_1= 1 $  y  $ P_2= 2 $ con una tolerancia (error) de $10^{-4}$\n"
      ],
      "metadata": {
        "id": "VhQS5e1Lrmi3"
      }
    }
  ]
}