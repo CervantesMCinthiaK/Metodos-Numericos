{
  "nbformat": 4,
  "nbformat_minor": 0,
  "metadata": {
    "colab": {
      "provenance": [],
      "authorship_tag": "ABX9TyNj7xH5d8MYNBq0ooAlMTMi",
      "include_colab_link": true
    },
    "kernelspec": {
      "name": "python3",
      "display_name": "Python 3"
    },
    "language_info": {
      "name": "python"
    }
  },
  "cells": [
    {
      "cell_type": "markdown",
      "metadata": {
        "id": "view-in-github",
        "colab_type": "text"
      },
      "source": [
        "<a href=\"https://colab.research.google.com/github/CervantesMCinthiaK/Metodos-Numericos/blob/main/Polinomio%20O%20Hermite.ipynb\" target=\"_parent\"><img src=\"https://colab.research.google.com/assets/colab-badge.svg\" alt=\"Open In Colab\"/></a>"
      ]
    },
    {
      "cell_type": "markdown",
      "source": [
        "#Polinomio Osculante de Hermite con Sympy\n",
        "Cervantes Martinez Cinthia Karina"
      ],
      "metadata": {
        "id": "XVbSjd_d0tvb"
      }
    },
    {
      "cell_type": "code",
      "source": [
        "#Importamos las librerias que usaremos\n",
        "import sympy as sp\n",
        "import matplotlib.pyplot as plt"
      ],
      "metadata": {
        "id": "3nIzdj5Y0uCD"
      },
      "execution_count": 88,
      "outputs": []
    },
    {
      "cell_type": "code",
      "source": [
        "# Funcion para ingresar los puntos y las derivadas que se utilizaran\n",
        "def obtener_datos():\n",
        "    # Pedir al usuario el numero de puntos\n",
        "    n = int(input(\"¿Cuantos puntos de datos deseas ingresar? \"))\n",
        "\n",
        "    # Inicializamos con listas vacias\n",
        "    x_vals = []\n",
        "    f_vals = []\n",
        "    f_prime_vals = []\n",
        "\n",
        "    # Pedir los valores de los puntos (x), f(x) y f'(x)\n",
        "    for i in range(n):\n",
        "        x_i = float(input(f\"Ingrese el valor de x_{i+1}: \"))\n",
        "        f_i = float(input(f\"Ingrese el valor de f(x_{i+1}): \"))\n",
        "        f_prime_i = float(input(f\"Ingrese el valor de f'(x_{i+1}): \"))\n",
        "\n",
        "        # Agregar a las listas\n",
        "        x_vals.append(x_i)\n",
        "        f_vals.append(f_i)\n",
        "        f_prime_vals.append(f_prime_i)\n",
        "\n",
        "    # Retornar los valores\n",
        "    return x_vals, f_vals, f_prime_vals\n",
        "\n",
        "# Obtener los datos ingresados por el usuario\n",
        "x_vals, f_vals, f_prime_vals = obtener_datos()\n",
        "\n"
      ],
      "metadata": {
        "colab": {
          "base_uri": "https://localhost:8080/"
        },
        "id": "VyBAzkh3fEGq",
        "outputId": "e0ea2ddc-2ece-45d7-bb2b-e2a856947887"
      },
      "execution_count": 89,
      "outputs": [
        {
          "name": "stdout",
          "output_type": "stream",
          "text": [
            "¿Cuantos puntos de datos deseas ingresar? 3\n",
            "Ingrese el valor de x_1: 1.3\n",
            "Ingrese el valor de f(x_1): 0.6200860\n",
            "Ingrese el valor de f'(x_1): -0.5220232\n",
            "Ingrese el valor de x_2: 1.6\n",
            "Ingrese el valor de f(x_2): 0.4554022\n",
            "Ingrese el valor de f'(x_2): -0.5698959\n",
            "Ingrese el valor de x_3: 1.9\n",
            "Ingrese el valor de f(x_3): 0.2818186\n",
            "Ingrese el valor de f'(x_3): -0.5811571\n"
          ]
        }
      ]
    },
    {
      "cell_type": "code",
      "source": [
        "# Mostrar los datos ingresados para que se verifique\n",
        "print(\"\\nDatos ingresados:\")\n",
        "print(f\"x_vals: {x_vals}\")\n",
        "print(f\"f_vals: {f_vals}\")\n",
        "print(f\"f_prime_vals: {f_prime_vals}\")\n",
        "\n",
        "# Definimos el simbolo x\n",
        "x = sp.symbols('x')"
      ],
      "metadata": {
        "colab": {
          "base_uri": "https://localhost:8080/"
        },
        "id": "yQ-xjyM0zfi5",
        "outputId": "e97c7fc3-07b5-443d-8179-147b0e96daa0"
      },
      "execution_count": 90,
      "outputs": [
        {
          "output_type": "stream",
          "name": "stdout",
          "text": [
            "\n",
            "Datos ingresados:\n",
            "x_vals: [1.3, 1.6, 1.9]\n",
            "f_vals: [0.620086, 0.4554022, 0.2818186]\n",
            "f_prime_vals: [-0.5220232, -0.5698959, -0.5811571]\n"
          ]
        }
      ]
    },
    {
      "cell_type": "code",
      "source": [
        "# Solicitamos al usuario que ingrese el valor de x_eval\n",
        "x_eval = float(input(\"En qué punto deseas evaluar? \"))"
      ],
      "metadata": {
        "colab": {
          "base_uri": "https://localhost:8080/"
        },
        "id": "p2rQltpe0M_Q",
        "outputId": "50cc0b57-d846-429f-b226-b8cde68d2151"
      },
      "execution_count": 91,
      "outputs": [
        {
          "name": "stdout",
          "output_type": "stream",
          "text": [
            "En qué punto deseas evaluar? 1.5\n"
          ]
        }
      ]
    },
    {
      "cell_type": "code",
      "source": [
        "# Funcion para realizar la interpolacion de Hermite\n",
        "def hermite_interpolation(x_vals, f_vals, f_prime_vals, x_eval):\n",
        "    n = len(x_vals)\n",
        "\n",
        "    # Crear los nodos z y la tabla de diferencias divididas\n",
        "    z = []\n",
        "    Q = [[0] * (2 * n) for _ in range(2 * n)]  # Inicializar la tabla de diferencias divididas\n",
        "\n",
        "    # Duplicamos los puntos y asignar f(x) y f'(x)\n",
        "    for i in range(n):\n",
        "        z.append(x_vals[i])\n",
        "        z.append(x_vals[i])\n",
        "        Q[2 * i][0] = f_vals[i]\n",
        "        Q[2 * i + 1][0] = f_vals[i]\n",
        "        Q[2 * i + 1][1] = f_prime_vals[i]\n",
        "\n",
        "    # Calcula las primeras diferencias divididas\n",
        "    for i in range(1, n):\n",
        "        Q[2 * i][1] = (Q[2 * i][0] - Q[2 * i - 1][0]) / (z[2 * i] - z[2 * i - 1])\n",
        "\n",
        "    # Calcula las siguientes diferencias divididas\n",
        "    for i in range(2, 2 * n):\n",
        "        for j in range(2, i + 1):\n",
        "            Q[i][j] = (Q[i][j - 1] - Q[i - 1][j - 1]) / (z[i] - z[i - j])\n",
        "\n",
        "    # Mostramos la tabla de diferencias divididas\n",
        "    print(\"\\nTabla de Diferencias Divididas de Hermite:\")\n",
        "    headers = [\"z\"] + [f\"Q[{i},{i}]\" for i in range(0, 2 * n)]\n",
        "    print(\"   \".join(headers))  # Encabezados de la tabla\n",
        "\n",
        "    for i in range(2 * n):\n",
        "        row = [f\"{z[i]:.6f}\"]\n",
        "        for j in range(i + 1):\n",
        "            row.append(f\"{Q[i][j]:.6f}\")\n",
        "        print(\"   \".join(row))\n",
        "\n",
        "    # Generamos el polinomio de Hermite\n",
        "    result = Q[0][0]\n",
        "    product = 1  # Producto inicial (x - z_0)^0\n",
        "    poly_terms = [f\"{Q[0][0]:.6f}\"]  # Empezamos con el primer termino\n",
        "\n",
        "    # Generamos los terminos del polinomio de Hermite\n",
        "    for i in range(1, 2 * n):\n",
        "        term = f\"(x - {z[i - 1]:.6f})\"\n",
        "        for j in range(1, i):\n",
        "            term += f\" * (x - {z[j - 1]:.6f})\"\n",
        "        term += f\" * {Q[i][i]:.6f}\"\n",
        "        poly_terms.append(term)\n",
        "\n",
        "    # Generamos la cadena del polinomio\n",
        "    poly_string = \" + \".join(poly_terms)\n",
        "    print(\"\\nEl polinomio de Hermite generado es:\")\n",
        "    print(poly_string)\n",
        "\n",
        "    # Expansion del polinomio para simplificarlo\n",
        "    expanded_poly = sp.expand(poly_string)\n",
        "    print(\"\\nPor lo tanto el polinomio de hermite es:\")\n",
        "    print(\"\")\n",
        "    print(expanded_poly)\n",
        "\n",
        "    # Evaluamos el polinomio en el valor x_eval\n",
        "    evaluation_result = Q[0][0]\n",
        "    product = 1\n",
        "    for i in range(1, 2 * n):\n",
        "        product *= (x_eval - z[i - 1])\n",
        "        evaluation_result += Q[i][i] * product\n",
        "\n",
        "    return evaluation_result, expanded_poly, z, Q\n"
      ],
      "metadata": {
        "id": "66ZrxP9bfLql"
      },
      "execution_count": 92,
      "outputs": []
    },
    {
      "cell_type": "code",
      "source": [
        "# Obtenemos el resultado de la evaluacion del polinomio de Hermite\n",
        "result, expanded_poly, z, Q = hermite_interpolation(x_vals, f_vals, f_prime_vals, x_eval)\n",
        "\n",
        "# Imprimimos el valor evaluado\n",
        "print(f\"\\nY al evaluarlo en el polinomio en x = {x_eval} es: {result:.6f}\")\n",
        "\n",
        "# Graficamos el polinomio\n",
        "\n",
        "# Definimos el rango de x para la grafica\n",
        "x_plot = [i / 10.0 for i in range(int(min(x_vals) * 10) - 10, int(max(x_vals) * 10) + 10)]  # Generar valores de x de -10 a 10 pasos\n",
        "\n",
        "# Evaluamos el polinomio para los valores de x en el rango definido\n",
        "y_plot = [expanded_poly.subs(x, xi).evalf() for xi in x_plot]\n",
        "\n",
        "\n",
        "# Creamos la grafica\n",
        "plt.figure(figsize=(8, 6))\n",
        "plt.plot(x_plot, y_plot, label=\"Polinomio de Hermite\", color='blue', lw=2)\n",
        "\n",
        "# Graficar los puntos dados por el usuario\n",
        "plt.scatter(x_vals, f_vals, color='red', label=\"Puntos dados\", zorder=5)\n",
        "\n",
        "# Añadimos texto a cada punto\n",
        "for i in range(len(x_vals)):\n",
        "    plt.text(x_vals[i], f_vals[i], f\"({x_vals[i]}, {f_vals[i]})\", color='red', fontsize=10, ha='right', va='bottom')\n",
        "\n",
        "\n",
        "# Etiquetas y titulo\n",
        "plt.title(\"Interpolación de Hermite\", fontsize=14)\n",
        "plt.xlabel(\"x\", fontsize=8, color=\"gray\")\n",
        "plt.ylabel(\"f(x)\", fontsize=8, color=\"gray\")\n",
        "plt.axhline(0, color=\"gray\")\n",
        "plt.axvline(0, color=\"gray\")\n",
        "plt.grid(True)\n",
        "plt.legend()\n",
        "plt.savefig(\"output.png\") # Guardamos grafico como imagen PNG\n",
        "plt.show()"
      ],
      "metadata": {
        "colab": {
          "base_uri": "https://localhost:8080/",
          "height": 894
        },
        "id": "FMquqtE2rO7-",
        "outputId": "c44143f8-889b-451b-edce-79a30abac3ec"
      },
      "execution_count": 93,
      "outputs": [
        {
          "output_type": "stream",
          "name": "stdout",
          "text": [
            "\n",
            "Tabla de Diferencias Divididas de Hermite:\n",
            "z   Q[0,0]   Q[1,1]   Q[2,2]   Q[3,3]   Q[4,4]   Q[5,5]\n",
            "1.300000   0.620086\n",
            "1.300000   0.620086   -0.522023\n",
            "1.600000   0.455402   -0.548946   -0.089743\n",
            "1.600000   0.455402   -0.569896   -0.069833   0.066366\n",
            "1.900000   0.281819   -0.578612   -0.029054   0.067966   0.002667\n",
            "1.900000   0.281819   -0.581157   -0.008484   0.068567   0.001002   -0.002775\n",
            "\n",
            "El polinomio de Hermite generado es:\n",
            "0.620086 + (x - 1.300000) * -0.522023 + (x - 1.300000) * (x - 1.300000) * -0.089743 + (x - 1.600000) * (x - 1.300000) * (x - 1.300000) * 0.066366 + (x - 1.600000) * (x - 1.300000) * (x - 1.300000) * (x - 1.600000) * 0.002667 + (x - 1.900000) * (x - 1.300000) * (x - 1.300000) * (x - 1.600000) * (x - 1.600000) * -0.002775\n",
            "\n",
            "Por lo tanto el polinomio de hermite es:\n",
            "\n",
            "-0.002775*x**5 + 0.0240345*x**4 - 0.01456485*x**3 - 0.235203085*x**2 - 0.00823798799999999*x + 1.0019460188\n",
            "\n",
            "Y al evaluarlo en el polinomio en x = 1.5 es: 0.511828\n"
          ]
        },
        {
          "output_type": "display_data",
          "data": {
            "text/plain": [
              "<Figure size 800x600 with 1 Axes>"
            ],
            "image/png": "[encoded data removed]"
          },
          "metadata": {}
        }
      ]
    },
    {
      "cell_type": "markdown",
      "source": [
        "En este programa dada una tabla con datos  devuelve el polinomio de interpolación de Hermite y su respectiva grafica\n",
        "\n",
        "\\begin{array}{|c|c|c|c|}\n",
        "\\hline\n",
        "k & x_k & f(x_k) & f'(x_k) \\\\\n",
        "\\hline\n",
        "0 & 1.3 & 0.6200860 & -0.5220232 \\\\\n",
        "1 & 1.6 & 0.4554022 & -0.5698959 \\\\\n",
        "2 & 1.9 & 0.2818186 & -0.5811571 \\\\\n",
        "\\hline\n",
        "\\end{array}\n",
        "\n",
        "Además, evaluamos en un valor de x en este caso $x=1.5$"
      ],
      "metadata": {
        "id": "EAbNehzOiZNq"
      }
    }
  ]
}