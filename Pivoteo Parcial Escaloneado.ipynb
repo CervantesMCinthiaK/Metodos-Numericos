{
  "nbformat": 4,
  "nbformat_minor": 0,
  "metadata": {
    "colab": {
      "provenance": [],
      "authorship_tag": "ABX9TyMb5yyR76PidO+qQk3gOxqU",
      "include_colab_link": true
    },
    "kernelspec": {
      "name": "python3",
      "display_name": "Python 3"
    },
    "language_info": {
      "name": "python"
    }
  },
  "cells": [
    {
      "cell_type": "markdown",
      "metadata": {
        "id": "view-in-github",
        "colab_type": "text"
      },
      "source": [
        "<a href=\"https://colab.research.google.com/github/CervantesMCinthiaK/Metodos-Numericos/blob/main/Pivoteo%20Parcial%20Escaloneado.ipynb\" target=\"_parent\"><img src=\"https://colab.research.google.com/assets/colab-badge.svg\" alt=\"Open In Colab\"/></a>"
      ]
    },
    {
      "cell_type": "markdown",
      "source": [
        "# Eliminación gaussiana con pivoteo parcial escalado.\n",
        "Alumna: Cervantes Martinez Cinthia Karina\n"
      ],
      "metadata": {
        "id": "R_dZ2TzmghCK"
      }
    },
    {
      "cell_type": "code",
      "source": [
        "#Definir la biblioteca  que usaremos\n",
        "import numpy as np"
      ],
      "metadata": {
        "id": "gQAQ6IvP0hVG"
      },
      "execution_count": 29,
      "outputs": []
    },
    {
      "cell_type": "code",
      "source": [
        "# Guardamos los datos a usar:\n",
        "A = [\n",
        "    [2.11, -4.21,  0.921],\n",
        "    [4.01,  10.2,  -1.12],\n",
        "    [1.09,  0.987,  0.832]\n",
        "]\n",
        "\n",
        "b = [2.01, -3.09, 4.21]"
      ],
      "metadata": {
        "id": "oRwAKZuh0xub"
      },
      "execution_count": 30,
      "outputs": []
    },
    {
      "cell_type": "code",
      "source": [
        "#Empezamos con el Algoritmo :\n",
        "def gauss_elimination_with_partial_pivoting_augmented(A, b, decimal_places=3):\n",
        "    # Convertimos A y b a matrices de numpy\n",
        "    A = np.array(A, dtype=float)\n",
        "    b = np.array(b, dtype=float)\n",
        "\n",
        "    n = len(b)\n",
        "\n",
        "    # Creamos la matriz aumentada [A | b]\n",
        "    augmented_matrix = np.hstack((A, b.reshape(-1, 1)))\n",
        "\n",
        "    print(\"Solucion:\")\n",
        "\n",
        "    # Paso 1: Inicializamos  los vectores s_i y NROW(i)\n",
        "    s = np.max(np.abs(augmented_matrix[:, :-1]), axis=1)\n",
        "    NROW = np.arange(n)\n",
        "    # Imprimir los vectores s y la matriz aumentada\n",
        "    print(\"Se tiene s:\")\n",
        "    print(np.round(s, decimal_places))\n",
        "    print(\"\")\n",
        "    print(\"Matriz aumentada:\")\n",
        "\n",
        "    # Paso 2:Realizamos paso 3-6\n",
        "    for i in range(n - 1):\n",
        "        # Paso 3: Si p es el entero más pequeño con i ≤ p ≤ n y |a(NROW(p),i)|/ s(NROW(p)) = máx_i≤ j≤n|a(NROW(j),i)|/s(NROW(j))\n",
        "\n",
        "        p = np.argmax(np.abs(augmented_matrix[i:n, i]) / s[i:n]) + i\n",
        "\n",
        "        # Paso 4: Si es 0, el sistema no tiene solucion unica\n",
        "        if augmented_matrix[p, i] == 0:\n",
        "            print(\"No existe solucion unica.\")\n",
        "            return None\n",
        "\n",
        "        # Paso 5: Intercambiar fila simulado\n",
        "        if p != i:\n",
        "            # Intercambio simulado de filas en la matriz aumentada\n",
        "            augmented_matrix[[i, p], :] = augmented_matrix[[p, i], :]\n",
        "\n",
        "        # Mostrar la matriz aumentada despues del posible intercambio de filas\n",
        "        print(\"\")\n",
        "        print(np.round(augmented_matrix, decimal_places))\n",
        "        #Paso 6 haciendo paso 7 y 8:\n",
        "        for j in range(i + 1, n):\n",
        "          # Paso 7: Dterminando m(NROW(j),i)\n",
        "            m = augmented_matrix[j, i] / augmented_matrix[i, i]\n",
        "\n",
        "            augmented_matrix[j, i:] -= m * augmented_matrix[i, i:]  # Paso 8: restamos el multiplo de la fila i a la fila j\n",
        "\n",
        "\n",
        "            # Mostrar el valor del m\n",
        "            print(\"\")\n",
        "            print(f\"  m_{j+1}{i+1} = {round(m, decimal_places)}\")\n",
        "\n",
        "            # Mostrar la matriz aumentada despues de la eliminacion e intercambio\n",
        "            print(\"\")\n",
        "            print(np.round(augmented_matrix, decimal_places))\n",
        "\n",
        "    # Paso 9:Vemos si tiene solucion unica\n",
        "    if augmented_matrix[n-1, n-1] == 0:\n",
        "        print(\"No existe solucion unica.\")\n",
        "        return None\n",
        "\n",
        "    # Paso 10: Hacemos x_n\n",
        "    x = np.zeros(n)\n",
        "\n",
        "    # Comenzamos por la ultima incognita\n",
        "    x[n-1] = augmented_matrix[n-1, -1] / augmented_matrix[n-1, n-1]\n",
        "    print(f\"\\n Ahora bien, sustituyendo hacia atras. \\nSe tiene:\\n x[{n}] = {round(x[n-1], decimal_places)}\")\n",
        "\n",
        "    # Paso 11: Realizamos la sustitucion hacia atras\n",
        "    for i in range(n-2, -1, -1):\n",
        "        # Calculamos x[i]\n",
        "        sum_product = np.dot(augmented_matrix[i, i+1:n], x[i+1:n])  # Calculamos la suma de los productos\n",
        "        x[i] = (augmented_matrix[i, -1] - sum_product) / augmented_matrix[i, i]\n",
        "\n",
        "        # Imprimimos como se calcula x[i]\n",
        "        print(\"\")\n",
        "        print(f\"  x[{i+1}] = ({round(augmented_matrix[i, -1], decimal_places)} - \"\n",
        "              f\"{round(sum_product, decimal_places)}) / {round(augmented_matrix[i, i], decimal_places)}\")\n",
        "\n",
        "        # Mostrar el valor de x[i]\n",
        "        print(f\"  x[{i+1}] = {round(x[i], decimal_places)}\")\n",
        "\n",
        "    # Paso 12: Retornar la solucion\n",
        "    print(\"\\nPor lo tanto, La solucion final es:\")\n",
        "    for i in range(n):\n",
        "        print(f\"x{i+1} = {round(x[i], decimal_places)}\")\n",
        "\n",
        "    return x\n",
        "\n",
        "# Resolvemos el sistema Ax = b utilizando la matriz aumentada\n",
        "solution = gauss_elimination_with_partial_pivoting_augmented(A, b)\n",
        "\n"
      ],
      "metadata": {
        "colab": {
          "base_uri": "https://localhost:8080/"
        },
        "id": "aacGWKmEvPCq",
        "outputId": "bf9c7c16-e236-4560-95aa-57f97e910fe5"
      },
      "execution_count": 38,
      "outputs": [
        {
          "output_type": "stream",
          "name": "stdout",
          "text": [
            "Solucion:\n",
            "Se tiene s:\n",
            "[ 4.21 10.2   1.09]\n",
            "\n",
            "Matriz aumentada:\n",
            "\n",
            "[[ 1.09   0.987  0.832  4.21 ]\n",
            " [ 4.01  10.2   -1.12  -3.09 ]\n",
            " [ 2.11  -4.21   0.921  2.01 ]]\n",
            "\n",
            "  m_21 = 3.679\n",
            "\n",
            "[[  1.09    0.987   0.832   4.21 ]\n",
            " [  0.      6.569  -4.181 -18.578]\n",
            " [  2.11   -4.21    0.921   2.01 ]]\n",
            "\n",
            "  m_31 = 1.936\n",
            "\n",
            "[[  1.09    0.987   0.832   4.21 ]\n",
            " [  0.      6.569  -4.181 -18.578]\n",
            " [  0.     -6.121  -0.69   -6.14 ]]\n",
            "\n",
            "[[  1.09    0.987   0.832   4.21 ]\n",
            " [  0.     -6.121  -0.69   -6.14 ]\n",
            " [  0.      6.569  -4.181 -18.578]]\n",
            "\n",
            "  m_32 = -1.073\n",
            "\n",
            "[[  1.09    0.987   0.832   4.21 ]\n",
            " [  0.     -6.121  -0.69   -6.14 ]\n",
            " [  0.      0.     -4.921 -25.168]]\n",
            "\n",
            " Ahora bien, sustituyendo hacia atras. \n",
            "Se tiene:\n",
            " x[3] = 5.114\n",
            "\n",
            "  x[2] = (-6.14 - -3.527) / -6.121\n",
            "  x[2] = 0.427\n",
            "\n",
            "  x[1] = (4.21 - 4.677) / 1.09\n",
            "  x[1] = -0.428\n",
            "\n",
            "Por lo tanto, La solucion final es:\n",
            "x1 = -0.428\n",
            "x2 = 0.427\n",
            "x3 = 5.114\n"
          ]
        }
      ]
    },
    {
      "cell_type": "markdown",
      "source": [
        "  Eliminación gaussiana con pivoteo parcial escalado \\\\\n",
        "  En este programa se implementa el sistema lineal con aritmética de redondeo de tres dígitos. \\\\\n",
        "$2.11x_1- 4.21x_2+0.921x_3= 2.01,\\\\\n",
        " 4.01x_1+ 10.2x_2- 1.12x_3=-3.09,\\\\\n",
        " 1.09x_1+0.987x_2+0.832x_3= 4.21.$"
      ],
      "metadata": {
        "id": "0HZJz4J5yPAf"
      }
    }
  ]
}