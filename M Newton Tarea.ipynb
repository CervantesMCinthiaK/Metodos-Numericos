{
  "nbformat": 4,
  "nbformat_minor": 0,
  "metadata": {
    "colab": {
      "provenance": [],
      "authorship_tag": "ABX9TyPb0QOnqGZgKoET0unHRIU0",
      "include_colab_link": true
    },
    "kernelspec": {
      "name": "python3",
      "display_name": "Python 3"
    },
    "language_info": {
      "name": "python"
    }
  },
  "cells": [
    {
      "cell_type": "markdown",
      "metadata": {
        "id": "view-in-github",
        "colab_type": "text"
      },
      "source": [
        "<a href=\"https://colab.research.google.com/github/CervantesMCinthiaK/Metodos-Numericos/blob/main/M%20Newton%20Tarea.ipynb\" target=\"_parent\"><img src=\"https://colab.research.google.com/assets/colab-badge.svg\" alt=\"Open In Colab\"/></a>"
      ]
    },
    {
      "cell_type": "markdown",
      "source": [
        "# Método de Newton\n",
        "\n"
      ],
      "metadata": {
        "id": "wKlgKyj-hdjM"
      }
    },
    {
      "cell_type": "code",
      "source": [
        "from math import *\n",
        "import sympy as sp\n",
        "import numpy as np\n",
        "import matplotlib . pyplot as plt"
      ],
      "metadata": {
        "id": "8e-cybINhjKs"
      },
      "execution_count": 201,
      "outputs": []
    },
    {
      "cell_type": "code",
      "source": [
        "# Definimos la variable\n",
        "x = sp.symbols('x')"
      ],
      "metadata": {
        "id": "gA0aSS5kpt2C"
      },
      "execution_count": 202,
      "outputs": []
    },
    {
      "cell_type": "code",
      "source": [
        "#Definimos la función\n",
        "def f(x):\n",
        "    return x**3-x-1"
      ],
      "metadata": {
        "id": "c_8R3t50hm2-"
      },
      "execution_count": 203,
      "outputs": []
    },
    {
      "cell_type": "code",
      "source": [
        "# Derivamos la función\n",
        "derivada = sp.diff(f(x), x)\n",
        "print(derivada)"
      ],
      "metadata": {
        "colab": {
          "base_uri": "https://localhost:8080/"
        },
        "id": "NyhNnnhE21Eo",
        "outputId": "512d2d7a-1b68-4c4f-f78c-e5d68df78e8e"
      },
      "execution_count": 204,
      "outputs": [
        {
          "output_type": "stream",
          "name": "stdout",
          "text": [
            "3*x**2 - 1\n"
          ]
        }
      ]
    },
    {
      "cell_type": "code",
      "source": [
        "#Teniendo en cuenta los intervalos\n",
        "#print(\"Ingrese el intervalo de la funcion\")\n",
        "a0 =1 #float(input(\"Ingrese  a: \"))\n",
        "b0 =2 #float(input(\"Ingresa  b: \"))"
      ],
      "metadata": {
        "id": "5f0K6AsrzCDC"
      },
      "execution_count": 205,
      "outputs": []
    },
    {
      "cell_type": "code",
      "source": [
        "# Ingreso datos de entrada para los diferentes métodos a trabajar\n",
        "a=1 # float(input(\"Ingrese el valor de P0(Aproximacion inicial): \"))\n",
        "\n",
        "# guarda valores iniciales\n",
        "p0 = a\n",
        "\n",
        "#guarda valores iniciales del error y del número de iteraciones\n",
        "tol =0.001 #float(input(\"Ingrese el valor de la tolerancia: \"))\n",
        "nmax = 100 #int(input(\"Ingrese el número máximo de iteraciones: \"))\n",
        "error = 100\n",
        "niter = 0"
      ],
      "metadata": {
        "id": "K0icCLGeh6yr"
      },
      "execution_count": 206,
      "outputs": []
    },
    {
      "cell_type": "code",
      "source": [
        "# Método de Newton\n",
        "# evaluo el primer punto en la función\n",
        "p = f(x).evalf(subs={x: p0})\n",
        "derivada_e = derivada.evalf(subs={x: p0})\n",
        "pp= p0- (f(p0)/derivada_e)\n",
        "\n",
        "#vamos imprimiendo la tabla\n",
        "print(\"# iter\\t\\t p0 \\t\\t f(p0) \\t\\t f'(p0) \\t\\t p \\t\\t error\")\n",
        "print(\"{0} \\t\\t {1:6.4f} \\t {2:6.4f} \\t {3:6.4f} \\t {4:6.4f} \\t {5:6.4f}\".format(niter, p0 , p , derivada_e , pp , error))\n",
        "\n",
        "while error > tol and niter < nmax:\n",
        "  # Actualizamos p0 para la siguiente iteración\n",
        "  p0 = pp\n",
        "  # Evaluamos  la función en el nuevo\n",
        "  p = f(x).evalf(subs={x: p0})\n",
        "  derivada_e = derivada.evalf(subs={x: p0})\n",
        "  # Nueva aproximación\n",
        "  pp = p0 - (p / derivada_e)\n",
        "\n",
        "  # Calculamos el error\n",
        "  error = abs(pp-p0)\n",
        "\n",
        "  # Incrementamos el contador de iteraciones\n",
        "  niter += 1\n",
        "\n",
        "  #se imprime la tabla\n",
        "  print(\"{0} \\t\\t {1:6.4f} \\t {2:6.4f} \\t {3:6.4f} \\t {4:6.4f} \\t {5:6.4f}\".format(niter, p0 , p , derivada_e , pp , error))\n",
        "\n",
        "#vemos si funciono o fallo\n",
        "if error <= tol:\n",
        "  print(\"La raíz de la función dada en el intervalo [{0:6.4f},{1:6.4f}] es {2:6.7f}\".format(a0 ,b0 , pp))\n",
        "else:\n",
        "  print(f\"El método falló después de {nmax} iteraciones.\")\n"
      ],
      "metadata": {
        "colab": {
          "base_uri": "https://localhost:8080/"
        },
        "id": "PvbQjk5BiHW7",
        "outputId": "23ce2185-1537-4be4-a23c-51413c83c615"
      },
      "execution_count": 207,
      "outputs": [
        {
          "output_type": "stream",
          "name": "stdout",
          "text": [
            "# iter\t\t p0 \t\t f(p0) \t\t f'(p0) \t\t p \t\t error\n",
            "0 \t\t 1.0000 \t -1.0000 \t 2.0000 \t 1.5000 \t 100.0000\n",
            "1 \t\t 1.5000 \t 0.8750 \t 5.7500 \t 1.3478 \t 0.1522\n",
            "2 \t\t 1.3478 \t 0.1007 \t 4.4499 \t 1.3252 \t 0.0226\n",
            "3 \t\t 1.3252 \t 0.0021 \t 4.2685 \t 1.3247 \t 0.0005\n",
            "La raíz de la función dada en el intervalo [1.0000,2.0000] es 1.3247182\n"
          ]
        }
      ]
    },
    {
      "cell_type": "markdown",
      "source": [
        "Se tiene un ejemplo del código realizado, es decir, usando el método Newton se resuelve la función $$\n",
        "f(x) = x^3 - x - 1\n",
        "$$ con una aproximación $ P_0 = 1 $ y con un error $10^{-2}$"
      ],
      "metadata": {
        "id": "vjUhDxn3-6Dj"
      }
    }
  ]
}