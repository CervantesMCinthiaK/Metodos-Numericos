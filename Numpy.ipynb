{
  "nbformat": 4,
  "nbformat_minor": 0,
  "metadata": {
    "colab": {
      "provenance": [],
      "authorship_tag": "ABX9TyOzLY+sECzNZmL2Tj2+raDo",
      "include_colab_link": true
    },
    "kernelspec": {
      "name": "python3",
      "display_name": "Python 3"
    },
    "language_info": {
      "name": "python"
    }
  },
  "cells": [
    {
      "cell_type": "markdown",
      "metadata": {
        "id": "view-in-github",
        "colab_type": "text"
      },
      "source": [
        "<a href=\"https://colab.research.google.com/github/CervantesMCinthiaK/Metodos-Numericos/blob/main/Numpy.ipynb\" target=\"_parent\"><img src=\"https://colab.research.google.com/assets/colab-badge.svg\" alt=\"Open In Colab\"/></a>"
      ]
    },
    {
      "cell_type": "markdown",
      "source": [
        "#Tutorial de Numpy\n",
        "Cervantes Martinez Cinthia Karina\n"
      ],
      "metadata": {
        "id": "Mh0FhzlmBL0h"
      }
    },
    {
      "cell_type": "markdown",
      "source": [
        "Numpy es una librería de Python especializada en el cálculo numérico y el análisis de datos."
      ],
      "metadata": {
        "id": "WHg-M6-1BTvV"
      }
    },
    {
      "cell_type": "markdown",
      "source": [
        "Introduce una nueva clase de objetos llamada \"arrays\" que permite representar colecciones de datos del mismo tipo en múltiples dimensiones"
      ],
      "metadata": {
        "id": "mD8KUkCSEq13"
      }
    },
    {
      "cell_type": "code",
      "source": [
        "import numpy as np #para empezar a programar se declara la libreria"
      ],
      "metadata": {
        "id": "1EH6_1wlGZKR"
      },
      "execution_count": 2,
      "outputs": []
    },
    {
      "cell_type": "code",
      "source": [
        "#Si desea crear un array se utiliza\n",
        "#np.array(lista) donde crea a partir de la lista o tupla proporcionada y devuelve una referencia a dicho array.\n",
        "\n",
        "# Puedes crear un array unidimensional (vector) a partir de una lista:\n",
        "a1 = np.array([-1, -2, -3, -4])\n",
        "print(\"Array de dimension 1: \")\n",
        "print(a1)\n",
        "\n",
        "#Para crear un array bidimensional (matriz), utiliza una lista de listas:\n",
        "a2 = np.array([[1.1, 2.2, 3.3], [4.4, 5.5, 6.6]])\n",
        "print(\"Array de dimension 2: \")\n",
        "print(a2)"
      ],
      "metadata": {
        "colab": {
          "base_uri": "https://localhost:8080/"
        },
        "id": "gcXeNiGZE0yR",
        "outputId": "eb306646-dea4-4ee8-f5f7-a1b9d8559f5f"
      },
      "execution_count": 3,
      "outputs": [
        {
          "output_type": "stream",
          "name": "stdout",
          "text": [
            "Array de dimension 1: \n",
            "[-1 -2 -3 -4]\n",
            "Array de dimension 2: \n",
            "[[1.1 2.2 3.3]\n",
            " [4.4 5.5 6.6]]\n"
          ]
        }
      ]
    },
    {
      "cell_type": "code",
      "source": [
        "#Si deseas crear un array unidimensional  con solo 2 elementos se utiliza np.empty(dimensiones):\n",
        "array_vacio = np.empty(2)\n",
        "print(\"Array vacío:\\n\", array_vacio) #mandamos a imprimir\n",
        "\n",
        "#Si deseas crear un array bidimensional deberas indicar el número de filas y columnas que tendrá el array.\n",
        "array_vacio = np.empty((2, 3))\n",
        "print(\"Array vacío:\\n\", array_vacio)"
      ],
      "metadata": {
        "colab": {
          "base_uri": "https://localhost:8080/"
        },
        "id": "H7W2BKysHgE6",
        "outputId": "c416f7a4-9dd6-472b-e1e1-a590815d6199"
      },
      "execution_count": 4,
      "outputs": [
        {
          "output_type": "stream",
          "name": "stdout",
          "text": [
            "Array vacío:\n",
            " [-5.73021895e-300  6.71880019e-310]\n",
            "Array vacío:\n",
            " [[1.1 2.2 3.3]\n",
            " [4.4 5.5 6.6]]\n"
          ]
        }
      ]
    },
    {
      "cell_type": "code",
      "source": [
        "#Para crear un array lleno de ceros con las dimensiones especificadas se utiliza np.zeros(dimensiones)\n",
        "#Un array dimensional:\n",
        "array_ceros=np.zeros(2)\n",
        "print(\"Array de ceros:\\n\", array_ceros)\n",
        "\n",
        "#por otra parte, para crear un array bidimensional se debe indicar el numero de filas y columnas\n",
        "array_ceros=np.zeros((2,3))\n",
        "print(\"Array de ceros:\\n\", array_ceros)"
      ],
      "metadata": {
        "colab": {
          "base_uri": "https://localhost:8080/"
        },
        "id": "-HN4c-cQKKjp",
        "outputId": "bf5b3216-c29d-47b8-af89-93962ad9ae6b"
      },
      "execution_count": 5,
      "outputs": [
        {
          "output_type": "stream",
          "name": "stdout",
          "text": [
            "Array de ceros:\n",
            " [0. 0.]\n",
            "Array de ceros:\n",
            " [[0. 0. 0.]\n",
            " [0. 0. 0.]]\n"
          ]
        }
      ]
    },
    {
      "cell_type": "code",
      "source": [
        "#Si desea crear un array lleno de unos con las dimensiones especificadas se utiliza  np.ones(dimensiones):\n",
        "array_unos = np.ones((2, 3)) #aqui el ejemplo es bidimensional\n",
        "print(\"Array de unos:\\n\", array_unos)"
      ],
      "metadata": {
        "colab": {
          "base_uri": "https://localhost:8080/"
        },
        "id": "YhdG6HxgLbrq",
        "outputId": "7e5d31a2-c789-4185-a57c-534c2328ea3e"
      },
      "execution_count": 6,
      "outputs": [
        {
          "output_type": "stream",
          "name": "stdout",
          "text": [
            "Array de unos:\n",
            " [[1. 1. 1.]\n",
            " [1. 1. 1.]]\n"
          ]
        }
      ]
    },
    {
      "cell_type": "code",
      "source": [
        "#si deseas crear un array donde todos los elementos son iguales al valor proporcionado se utiliza np.full(dimensiones, valor).\n",
        "array_llenado = np.full((2, 3), 7)\n",
        "print(\"Array lleno de 7:\\n\", array_llenado)"
      ],
      "metadata": {
        "colab": {
          "base_uri": "https://localhost:8080/"
        },
        "id": "A6SDsi3XMEEF",
        "outputId": "a1ccbba7-75c2-4e6e-d6f3-19c664336fb1"
      },
      "execution_count": 7,
      "outputs": [
        {
          "output_type": "stream",
          "name": "stdout",
          "text": [
            "Array lleno de 7:\n",
            " [[7 7 7]\n",
            " [7 7 7]]\n"
          ]
        }
      ]
    },
    {
      "cell_type": "code",
      "source": [
        "#Para  un array unidimensional que contiene una secuencia de números desde inicio hasta fin, tomando valores con un paso de salto se utiliza np.arange(inicio, fin, salto).\n",
        "array_rango = np.arange(0, 10, 2)\n",
        "print(\"Array con np.arange:\\n\", array_rango)"
      ],
      "metadata": {
        "colab": {
          "base_uri": "https://localhost:8080/"
        },
        "id": "bm2UrCovMqMX",
        "outputId": "78362b84-8b0e-4cdb-a567-a9cce0b38c7e"
      },
      "execution_count": 8,
      "outputs": [
        {
          "output_type": "stream",
          "name": "stdout",
          "text": [
            "Array con np.arange:\n",
            " [0 2 4 6 8]\n"
          ]
        }
      ]
    },
    {
      "cell_type": "code",
      "source": [
        "#Por otra parte, existe np.linspace(inicio, fin, n) donde crea un array unidimensional con n valores equidistantes entre inicio y fin.\n",
        "array_lineal = np.linspace(0, 1, 5)\n",
        "print(\"Array con np.linspace:\\n\", array_lineal)"
      ],
      "metadata": {
        "colab": {
          "base_uri": "https://localhost:8080/"
        },
        "id": "P2NTAkVKNBNH",
        "outputId": "a9959764-567f-4860-d975-0268fac0b88a"
      },
      "execution_count": 9,
      "outputs": [
        {
          "output_type": "stream",
          "name": "stdout",
          "text": [
            "Array con np.linspace:\n",
            " [0.   0.25 0.5  0.75 1.  ]\n"
          ]
        }
      ]
    },
    {
      "cell_type": "code",
      "source": [
        "#Para crear un array cuyos elementos son números aleatorios en un intervalo se utiliza  np.random.random(dimensiones):\n",
        "array_aleatorio = np.random.random((2, 3)) #aqui deberas indicar el número de filas y columnas que tendrá el array\n",
        "print(\"Array aleatorio:\\n\", array_aleatorio)"
      ],
      "metadata": {
        "colab": {
          "base_uri": "https://localhost:8080/"
        },
        "id": "x2ZvMcRWNLfN",
        "outputId": "a1883a77-cce4-4983-b98b-d4c7cc1500f1"
      },
      "execution_count": 10,
      "outputs": [
        {
          "output_type": "stream",
          "name": "stdout",
          "text": [
            "Array aleatorio:\n",
            " [[0.68427087 0.18418951 0.26369714]\n",
            " [0.33686729 0.65058128 0.11233712]]\n"
          ]
        }
      ]
    },
    {
      "cell_type": "markdown",
      "source": [
        "#Lo interesante es que tambien Numpy cuenta con ATRIBUTOS"
      ],
      "metadata": {
        "id": "KREqIVRPNs11"
      }
    },
    {
      "cell_type": "code",
      "source": [
        "#Los atributos que usted puede utilizar son:\n",
        "#a.ndim: Devuelve el número de dimensiones del array a\n",
        "#a.shape: Devuelve una tupla con las dimensiones del array a\n",
        "#a.size: Devuelve el número total de elementos en el array a\n",
        "#a.dtype: Devuelve el tipo de datos de los elementos del array a\n",
        "\n",
        "#Ejemplo:\n",
        "# Crea un array\n",
        "array = np.array([[1, 2, 3], [4, 5, 6]])\n",
        "\n",
        "# Imprime los atributos del array\n",
        "print(\"Número de dimensiones:\", array.ndim)\n",
        "print(\"Dimensiones del array:\", array.shape)\n",
        "print(\"Número total de elementos:\", array.size)\n",
        "print(\"Tipo de datos de los elementos:\", array.dtype)"
      ],
      "metadata": {
        "colab": {
          "base_uri": "https://localhost:8080/"
        },
        "id": "b02lilNtNxkf",
        "outputId": "2eb9c42d-341e-4fd9-92bf-25b54784bf52"
      },
      "execution_count": 11,
      "outputs": [
        {
          "output_type": "stream",
          "name": "stdout",
          "text": [
            "Número de dimensiones: 2\n",
            "Dimensiones del array: (2, 3)\n",
            "Número total de elementos: 6\n",
            "Tipo de datos de los elementos: int64\n"
          ]
        }
      ]
    },
    {
      "cell_type": "code",
      "source": [
        "#Podemos añadir nuevos elementos a un array ya creado:\n",
        "a = np.array((1,2,3))\n",
        "np.append(a,(4,5)) #se agrega los elementos 4 y 5 al array “a”"
      ],
      "metadata": {
        "colab": {
          "base_uri": "https://localhost:8080/"
        },
        "id": "_axNG7L2PDXv",
        "outputId": "f8934523-e375-417a-d53c-55c9262ed7f3"
      },
      "execution_count": 12,
      "outputs": [
        {
          "output_type": "execute_result",
          "data": {
            "text/plain": [
              "array([1, 2, 3, 4, 5])"
            ]
          },
          "metadata": {},
          "execution_count": 12
        }
      ]
    },
    {
      "cell_type": "code",
      "source": [
        "#De la misma manera podemos eliminar elementos en los arrays ya creados, para esto solamente debemos indicar la posición del elemento que queremos eliminar.\n",
        "np.delete(a,1)"
      ],
      "metadata": {
        "colab": {
          "base_uri": "https://localhost:8080/"
        },
        "id": "FbLo3ftXP3Yl",
        "outputId": "a62e4544-91ec-4ccc-a5eb-bb002f08025c"
      },
      "execution_count": 13,
      "outputs": [
        {
          "output_type": "execute_result",
          "data": {
            "text/plain": [
              "array([1, 3])"
            ]
          },
          "metadata": {},
          "execution_count": 13
        }
      ]
    },
    {
      "cell_type": "markdown",
      "source": [
        "#Por otra parte numpy ofrece varios rangos de funciones matematicas"
      ],
      "metadata": {
        "id": "CdLUOgcoQMyu"
      }
    },
    {
      "cell_type": "code",
      "source": [
        "#Usted puede realizar con NumPy operaciones basicas:\n",
        "a = np.array([[1, 2, 3], [4, 5, 6]]) #se crean los arrays\n",
        "b = np.array([[1, 1, 1], [2, 2, 2]])\n",
        "print(a + b ) #o np.add(a, b).\n",
        "print(a-b) # o np.subtract(a, b)\n",
        "print(a / b) # o np.divide(a, b)\n",
        "print(a * b) # o np.multiply(a, b)"
      ],
      "metadata": {
        "colab": {
          "base_uri": "https://localhost:8080/"
        },
        "id": "alnLDF0BQfzH",
        "outputId": "051e571c-b6fd-4202-92dd-49614fc8ddce"
      },
      "execution_count": 14,
      "outputs": [
        {
          "output_type": "stream",
          "name": "stdout",
          "text": [
            "[[2 3 4]\n",
            " [6 7 8]]\n",
            "[[0 1 2]\n",
            " [2 3 4]]\n",
            "[[1.  2.  3. ]\n",
            " [2.  2.5 3. ]]\n",
            "[[ 1  2  3]\n",
            " [ 8 10 12]]\n"
          ]
        }
      ]
    },
    {
      "cell_type": "code",
      "source": [
        "#Ademas se puede calcular la raiz cuadrada:\n",
        "# Crea los arrays\n",
        "a = np.array([[1, 2], [3, 4]])\n",
        "b = np.array([[5, 6], [7, 8]])\n",
        "\n",
        "# Divide usando np.divide(a,b)\n",
        "c = np.divide(a, b)\n",
        "print(\"División:\\n\", c)\n",
        "\n",
        "# Calcula la raíz cuadrada de los elementos de c\n",
        "raiz_cuadrada = np.sqrt(c)\n",
        "print(\"Raíz cuadrada:\\n\", raiz_cuadrada)"
      ],
      "metadata": {
        "colab": {
          "base_uri": "https://localhost:8080/"
        },
        "id": "bA3vWT6oRcJH",
        "outputId": "24350e93-94a4-4754-85b4-e6f922080111"
      },
      "execution_count": 15,
      "outputs": [
        {
          "output_type": "stream",
          "name": "stdout",
          "text": [
            "División:\n",
            " [[0.2        0.33333333]\n",
            " [0.42857143 0.5       ]]\n",
            "Raíz cuadrada:\n",
            " [[0.4472136  0.57735027]\n",
            " [0.65465367 0.70710678]]\n"
          ]
        }
      ]
    },
    {
      "cell_type": "markdown",
      "source": [
        "Numpy tambien incorpora funciones para realizar las principales operaciones algebraicas con vectores y matrices."
      ],
      "metadata": {
        "id": "-Tq3wc4sR88s"
      }
    },
    {
      "cell_type": "code",
      "source": [
        "#Para realizar el producto escalar de dos vectores se utiliza el operador @ o u.dot(v) donde devuelve el producto escalar de los vectores u y v\n",
        "a = np.array([1, 2, 3])\n",
        "b = np.array([1, 0, 1])\n",
        "print(a @ b)\n",
        "print(a.dot(b))"
      ],
      "metadata": {
        "colab": {
          "base_uri": "https://localhost:8080/"
        },
        "id": "0r3ll2VzScDK",
        "outputId": "b7076659-1a21-4a14-c237-b072193af92b"
      },
      "execution_count": 16,
      "outputs": [
        {
          "output_type": "stream",
          "name": "stdout",
          "text": [
            "4\n",
            "4\n"
          ]
        }
      ]
    },
    {
      "cell_type": "code",
      "source": [
        "#Para calcular el módulo de un vector se utiliza el siguiente método: norm(v): donde devuelve el módulo del vector v.\n",
        "a = np.array([3, 4]) #aqui se crea un vector Rn=R2\n",
        "print(np.linalg.norm(a))"
      ],
      "metadata": {
        "colab": {
          "base_uri": "https://localhost:8080/"
        },
        "id": "0aVOT_UlSrff",
        "outputId": "936884c2-767b-497d-94b6-fc11005a63d1"
      },
      "execution_count": 17,
      "outputs": [
        {
          "output_type": "stream",
          "name": "stdout",
          "text": [
            "5.0\n"
          ]
        }
      ]
    },
    {
      "cell_type": "code",
      "source": [
        "#Para realizar el producto matricial se crea dos arrays y se imprime usando @ o .dot\n",
        "a = np.array([[1, 2, 3], [4, 5, 6]])\n",
        "b = np.array([[1, 1], [2, 2], [3, 3]])\n",
        "print(a @ b)\n",
        "print(a.dot(b))"
      ],
      "metadata": {
        "colab": {
          "base_uri": "https://localhost:8080/"
        },
        "id": "BvXhhBxgTBSe",
        "outputId": "bcdf4d37-c0a3-473c-fe24-bea3e8b199af"
      },
      "execution_count": 18,
      "outputs": [
        {
          "output_type": "stream",
          "name": "stdout",
          "text": [
            "[[14 14]\n",
            " [32 32]]\n",
            "[[14 14]\n",
            " [32 32]]\n"
          ]
        }
      ]
    },
    {
      "cell_type": "code",
      "source": [
        "#Para realizar el producto matricial se utiliza el mismo operador @ o a.dot(b) dond4e evuelve el producto matricial de las matrices a y b siempre y cuando sus dimensiones sean compatibles.\n",
        "a = np.array([[1, 2, 3], [4, 5, 6]])\n",
        "b = np.array([[1, 1], [2, 2], [3, 3]])\n",
        "print(a @ b)\n",
        "print(a.dot(b))"
      ],
      "metadata": {
        "colab": {
          "base_uri": "https://localhost:8080/"
        },
        "id": "Ilk97xrATOMK",
        "outputId": "0ed22eef-af9c-4b43-df4b-45e09f6cf447"
      },
      "execution_count": 19,
      "outputs": [
        {
          "output_type": "stream",
          "name": "stdout",
          "text": [
            "[[14 14]\n",
            " [32 32]]\n",
            "[[14 14]\n",
            " [32 32]]\n"
          ]
        }
      ]
    },
    {
      "cell_type": "code",
      "source": [
        "#Para trasponer una matriz se utiliza el método a.T\n",
        "a = np.array([[1, 2, 3], [4, 5, 6]])\n",
        "print(a.T)#Devuelve la matriz traspuesta de la matriz a."
      ],
      "metadata": {
        "colab": {
          "base_uri": "https://localhost:8080/"
        },
        "id": "QxHRJhqLTaLC",
        "outputId": "39fdf2f9-5274-41c1-d0cf-c0593af95286"
      },
      "execution_count": 20,
      "outputs": [
        {
          "output_type": "stream",
          "name": "stdout",
          "text": [
            "[[1 4]\n",
            " [2 5]\n",
            " [3 6]]\n"
          ]
        }
      ]
    },
    {
      "cell_type": "code",
      "source": [
        "#La traza de una matriz cuadrada se calcula con el siguiente método: a.trace()\n",
        "a = np.array([[1, 2, 3], [4, 5, 6], [7, 8, 9]])\n",
        "print(a.trace())  #Devuelve la traza (suma de la diagonal principal) de la matriz cuadrada a."
      ],
      "metadata": {
        "colab": {
          "base_uri": "https://localhost:8080/"
        },
        "id": "PoHNOL2_TouE",
        "outputId": "ab79fe65-ed81-4033-bd45-ac0463265292"
      },
      "execution_count": 21,
      "outputs": [
        {
          "output_type": "stream",
          "name": "stdout",
          "text": [
            "15\n"
          ]
        }
      ]
    },
    {
      "cell_type": "code",
      "source": [
        "# siguiente función:det(a)\n",
        "a = np.array([[1, 2], [3, 4]])\n",
        "print(np.linalg.det(a)) #se calcula su determinante y lo imprime"
      ],
      "metadata": {
        "colab": {
          "base_uri": "https://localhost:8080/"
        },
        "id": "Fw98OLNNT3KF",
        "outputId": "73705cf8-85c6-4eea-d1c1-11161ca25c16"
      },
      "execution_count": 22,
      "outputs": [
        {
          "output_type": "stream",
          "name": "stdout",
          "text": [
            "-2.0000000000000004\n"
          ]
        }
      ]
    },
    {
      "cell_type": "code",
      "source": [
        "#Si desea calcular su inversa de una matriz se calcula con la siguiente función:inv(a)\n",
        "a = np.array([[1, 2], [3, 4]])\n",
        "print(np.linalg.inv(a))"
      ],
      "metadata": {
        "id": "5Ve7qmklUA-k",
        "colab": {
          "base_uri": "https://localhost:8080/"
        },
        "outputId": "3ff8c450-7bbe-41ca-98b9-123306fab0f3"
      },
      "execution_count": 23,
      "outputs": [
        {
          "output_type": "stream",
          "name": "stdout",
          "text": [
            "[[-2.   1. ]\n",
            " [ 1.5 -0.5]]\n"
          ]
        }
      ]
    },
    {
      "cell_type": "code",
      "source": [
        "#Para resolver un sistema de ecuaciones lineales se utiliza la función siguiente:solve(a, b)\n",
        "a = np.array([[1, 2], [3, 5]])\n",
        "b = np.array([1, 2])\n",
        "print(np.linalg.solve(a, b))"
      ],
      "metadata": {
        "id": "Vtr8UFpOUajA",
        "colab": {
          "base_uri": "https://localhost:8080/"
        },
        "outputId": "cd1e4258-a001-4d55-e847-311ee76e8ea6"
      },
      "execution_count": 25,
      "outputs": [
        {
          "output_type": "stream",
          "name": "stdout",
          "text": [
            "[-1.  1.]\n"
          ]
        }
      ]
    },
    {
      "cell_type": "code",
      "source": [
        "#Pero lo mas interesante, ¿Te preguntaras como crear una tabla con numpy?\n",
        "#import numpy as np mandas a llamar la funcion\n",
        "\n",
        "# Puedes crear una tabla utilizando una lista de listas. Cada sublista representará una fila de la tabla:\n",
        "data = np.array([[1, 2, 3], [4, 5, 6], [7, 8, 9]])\n",
        "print(\"Tabla inicial:\\n\", data)\n",
        "\n",
        "# Despues acceder a elementos individuales utilizando índices (recordando que el índice comienza en 0)\n",
        "print(\"Elemento en (1, 2):\", data[1, 2])\n",
        "\n",
        "# O bien acceder a una fila y una columna\n",
        "print(\"Fila 1:\", data[1, :])\n",
        "print(\"Columna 1:\", data[:, 1])\n",
        "\n",
        "# Modificar un elemento\n",
        "data[0, 0] = 10\n",
        "print(\"Tabla modificada:\\n\", data)\n",
        "\n",
        "# o realizar Funciones estadísticas\n",
        "print(\"Media:\", np.mean(data))\n",
        "print(\"Suma de cada columna:\", np.sum(data, axis=0))"
      ],
      "metadata": {
        "colab": {
          "base_uri": "https://localhost:8080/"
        },
        "id": "OQyWyhysTora",
        "outputId": "996942a8-fda0-40cb-8165-1db11636b791"
      },
      "execution_count": 27,
      "outputs": [
        {
          "output_type": "stream",
          "name": "stdout",
          "text": [
            "Tabla inicial:\n",
            " [[1 2 3]\n",
            " [4 5 6]\n",
            " [7 8 9]]\n",
            "Elemento en (1, 2): 6\n",
            "Fila 1: [4 5 6]\n",
            "Columna 1: [2 5 8]\n",
            "Tabla modificada:\n",
            " [[10  2  3]\n",
            " [ 4  5  6]\n",
            " [ 7  8  9]]\n",
            "Media: 6.0\n",
            "Suma de cada columna: [21 15 18]\n"
          ]
        }
      ]
    }
  ]
}