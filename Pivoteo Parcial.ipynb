{
  "nbformat": 4,
  "nbformat_minor": 0,
  "metadata": {
    "colab": {
      "provenance": [],
      "authorship_tag": "ABX9TyN3sX1vjNLWNvXl8qwADixA",
      "include_colab_link": true
    },
    "kernelspec": {
      "name": "python3",
      "display_name": "Python 3"
    },
    "language_info": {
      "name": "python"
    }
  },
  "cells": [
    {
      "cell_type": "markdown",
      "metadata": {
        "id": "view-in-github",
        "colab_type": "text"
      },
      "source": [
        "<a href=\"https://colab.research.google.com/github/CervantesMCinthiaK/Metodos-Numericos/blob/main/Pivoteo%20Parcial.ipynb\" target=\"_parent\"><img src=\"https://colab.research.google.com/assets/colab-badge.svg\" alt=\"Open In Colab\"/></a>"
      ]
    },
    {
      "cell_type": "markdown",
      "source": [
        "#Pivoteo parcial\n",
        "Nombre:Cervantes Martinez Cinthia Karina"
      ],
      "metadata": {
        "id": "LPrgwWxrp-li"
      }
    },
    {
      "cell_type": "code",
      "source": [
        "#Definimos la biblioteca que se usara\n",
        "import numpy as np"
      ],
      "metadata": {
        "id": "PqZU6I9EosUP"
      },
      "execution_count": 29,
      "outputs": []
    },
    {
      "cell_type": "code",
      "source": [
        "#Realizamos el codigo sugerido\n",
        "\n",
        "def gauss_elimination_with_pivoting(A):\n",
        "    n = A.shape[0]  # Aqui se muestra el numero de incognitas (filas)\n",
        "    NROW = np.arange(n)  # Inicializa el indicador de filas\n",
        "\n",
        "    # Muestra  la matriz aumentada\n",
        "    print(\"Matriz inicial (A|b):\")\n",
        "    print_matrix(A)\n",
        "    print(\"\\n\")\n",
        "\n",
        "    # Paso 2: Eliminacion hacia adelante\n",
        "    for i in range(n-1):\n",
        "        # Paso 3: Seleccion del pivote\n",
        "        p = np.argmax(np.abs(A[NROW[i:n], i])) + i  # Encuentra el indice del maximo valor absoluto\n",
        "        print(f\"Seleccionando pivote para columna {i}: A[{NROW[p]}, {i}] = {A[NROW[p], i]}\")\n",
        "        #Paso 4:vemos si tiene solucion unica\n",
        "        if A[NROW[p], i] == 0:\n",
        "            return \"no existe solucion unica\"\n",
        "\n",
        "        # Paso 5: Intercambio de filas\n",
        "        if NROW[i] != NROW[p]:\n",
        "            print(f\"Intercambiando filas {NROW[i]} y {NROW[p]}\")\n",
        "            NROW[i], NROW[p] = NROW[p], NROW[i]\n",
        "\n",
        "        print(\"Matriz después del intercambio de filas:\")\n",
        "        print_matrix(A)\n",
        "        print(\"\\n\")\n",
        "\n",
        "        # Paso 6: Eliminacion de Gauss (hacia abajo)\n",
        "        for j in range(i + 1, n):\n",
        "          # Paso 7:\n",
        "            m = A[NROW[j], i] / A[NROW[i], i]  # Calculamos el multiplicador\n",
        "            print(f\"\\nEliminando elemento en A[{NROW[j]}, {i}] usando m = {m}\")\n",
        "            # Paso 8:\n",
        "            # Realizamos la operación (E2 - m21 * E1) -> E2\n",
        "            A[NROW[j], i:] -= m * A[NROW[i], i:]\n",
        "            print(f\"Restando {m} * fila {NROW[i]} a fila {NROW[j]}\")\n",
        "            print(\"Matriz después de la eliminación:\")\n",
        "            print_matrix(A)\n",
        "            print(\"\\n\")\n",
        "\n",
        "    # Paso 9: Verificacion en la ultima fila\n",
        "    if A[NROW[n-1], n-1] == 0:\n",
        "        return \"no existe solucion unica\"\n",
        "\n",
        "    # Paso 10: Sustitucion hacia atras\n",
        "    x = np.zeros(n)\n",
        "    print(\"\\nComenzando sustitucion hacia atras\")\n",
        "\n",
        "    # ultima incognita\n",
        "    x[n-1] = A[NROW[n-1], n] / A[NROW[n-1], n-1]\n",
        "    print(f\"x_{n} = {x[n-1]:.4f}\")\n",
        "\n",
        "    # Paso 11: Sustitucion hacia atras para las demas incognitas\n",
        "    for i in range(n-2, -1, -1):\n",
        "        sumatoria = np.sum(A[NROW[i], i+1:n] * x[i+1:n])\n",
        "        x[i] = (A[NROW[i], n] - sumatoria) / A[NROW[i], i]\n",
        "        print(f\"x_{i+1} = (A[{NROW[i]}, {n}] - {sumatoria:.4f}) / A[{NROW[i]}, {i}] = {x[i]:.4f}\")\n",
        "\n",
        "    # Paso 12: Retornamos la solucion\n",
        "    return x\n"
      ],
      "metadata": {
        "id": "zNg_6APqls5q"
      },
      "execution_count": 30,
      "outputs": []
    },
    {
      "cell_type": "code",
      "source": [
        "def print_matrix(A):\n",
        "    for row in A[::-1]:  # Revertir el orden de las filas para imprimir en el orden correcto\n",
        "        print(f\"[{', '.join([f'{elem:0.4f}' for elem in row])}]\")\n",
        "\n",
        "if __name__ == \"__main__\":\n",
        "\n",
        "    # Definimos la matriz aumentada (A|b) para el sistema\n",
        "    A = np.array([\n",
        "        [0.003000, 59.14, 59.17],  # E1\n",
        "        [5.291, -6.130, 46.78]     # E2\n",
        "    ], dtype=float)\n",
        "    # Llamamos a la funcion\n",
        "    solution = gauss_elimination_with_pivoting(A)\n",
        "\n",
        "    # Imprimimos la solucion\n",
        "    if isinstance(solution, str):\n",
        "        print(solution)  # Si el sistema no tiene solucion unica\n",
        "    else:\n",
        "        print(\"\\nSolucion del sistema:\")\n",
        "        for i in range(len(solution)):\n",
        "            print(f\"x_{i+1} = {solution[i]:.4f}\")  # Mostrar la solucion de manera clara\n"
      ],
      "metadata": {
        "colab": {
          "base_uri": "https://localhost:8080/"
        },
        "id": "JjkXAI-goa8W",
        "outputId": "969fda00-6047-4c66-9a5e-a09ebd4cf740"
      },
      "execution_count": 31,
      "outputs": [
        {
          "output_type": "stream",
          "name": "stdout",
          "text": [
            "Matriz inicial (A|b):\n",
            "[5.2910, -6.1300, 46.7800]\n",
            "[0.0030, 59.1400, 59.1700]\n",
            "\n",
            "\n",
            "Seleccionando pivote para columna 0: A[1, 0] = 5.291\n",
            "Intercambiando filas 0 y 1\n",
            "Matriz después del intercambio de filas:\n",
            "[5.2910, -6.1300, 46.7800]\n",
            "[0.0030, 59.1400, 59.1700]\n",
            "\n",
            "\n",
            "\n",
            "Eliminando elemento en A[0, 0] usando m = 0.000567000567000567\n",
            "Restando 0.000567000567000567 * fila 1 a fila 0\n",
            "Matriz después de la eliminación:\n",
            "[5.2910, -6.1300, 46.7800]\n",
            "[0.0000, 59.1435, 59.1435]\n",
            "\n",
            "\n",
            "\n",
            "Comenzando sustitucion hacia atras\n",
            "x_2 = 1.0000\n",
            "x_1 = (A[1, 2] - -6.1300) / A[1, 0] = 10.0000\n",
            "\n",
            "Solucion del sistema:\n",
            "x_1 = 10.0000\n",
            "x_2 = 1.0000\n"
          ]
        }
      ]
    },
    {
      "cell_type": "markdown",
      "source": [
        "En este ejercicio aplicamos pivoteo parcial y aritmetica de 4 digitos del sistema \\\\\n",
        "$E1 : 0.003000x_1 + 59.14x_2 = 59.17\\\\\n",
        "E2 : 5.291x_1 - 6.130x_2 = 46.78\n",
        "$\n"
      ],
      "metadata": {
        "id": "HlLADrHbsYFm"
      }
    }
  ]
}