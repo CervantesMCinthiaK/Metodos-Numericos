{
  "nbformat": 4,
  "nbformat_minor": 0,
  "metadata": {
    "colab": {
      "provenance": [],
      "authorship_tag": "ABX9TyMkB5L7+RIE5Mxey4R/Mel8",
      "include_colab_link": true
    },
    "kernelspec": {
      "name": "python3",
      "display_name": "Python 3"
    },
    "language_info": {
      "name": "python"
    }
  },
  "cells": [
    {
      "cell_type": "markdown",
      "metadata": {
        "id": "view-in-github",
        "colab_type": "text"
      },
      "source": [
        "<a href=\"https://colab.research.google.com/github/CervantesMCinthiaK/Metodos-Numericos/blob/main/M%20de%20Iteracion.ipynb\" target=\"_parent\"><img src=\"https://colab.research.google.com/assets/colab-badge.svg\" alt=\"Open In Colab\"/></a>"
      ]
    },
    {
      "cell_type": "markdown",
      "source": [
        "# Método de Iteración de Punto Fijo\n"
      ],
      "metadata": {
        "id": "00vLH2JfTOMp"
      }
    },
    {
      "cell_type": "code",
      "source": [
        "from math import *\n",
        "import math\n",
        "import numpy as np\n",
        "import matplotlib . pyplot as plt"
      ],
      "metadata": {
        "id": "-7kIM8qtTOYB"
      },
      "execution_count": 134,
      "outputs": []
    },
    {
      "cell_type": "code",
      "source": [
        "#El usuario ingresa la función que desea iterar\n",
        "funcion=(input(\"Ingrese la funcion: \"))"
      ],
      "metadata": {
        "colab": {
          "base_uri": "https://localhost:8080/"
        },
        "id": "NiyOuo9pUXUH",
        "outputId": "50432ee2-d453-4bda-cae4-cbf0bdaafedb"
      },
      "execution_count": 135,
      "outputs": [
        {
          "name": "stdout",
          "output_type": "stream",
          "text": [
            "Ingrese la funcion: (x + 1) ** (1/3)\n"
          ]
        }
      ]
    },
    {
      "cell_type": "code",
      "source": [
        "#se define dicha función ingresada por el usuario\n",
        "def g(x):\n",
        "  return eval(funcion)"
      ],
      "metadata": {
        "id": "gjc0kzUu9WVZ"
      },
      "execution_count": 136,
      "outputs": []
    },
    {
      "cell_type": "code",
      "source": [
        "111#teniendo en cuenta los intervalos\n",
        "print(\"Ingrese el intervalo de la funcion\")\n",
        "a0 = float(input(\"Ingrese  a: \"))\n",
        "b0 = float(input(\"Ingresa  b: \"))"
      ],
      "metadata": {
        "colab": {
          "base_uri": "https://localhost:8080/"
        },
        "id": "M1Jz3Y4rRpl1",
        "outputId": "32e8850e-0ad6-4d9a-bf30-504aef73c546"
      },
      "execution_count": 137,
      "outputs": [
        {
          "name": "stdout",
          "output_type": "stream",
          "text": [
            "Ingrese el intervalo de la funcion\n",
            "Ingrese  a: 1\n",
            "Ingresa  b: 2\n"
          ]
        }
      ]
    },
    {
      "cell_type": "code",
      "source": [
        "# Ingreso datos de entrada para los diferentes métodos a trabajar\n",
        "a= float(input(\"Ingrese el valor de P0(Aproximacion inicial): \"))\n",
        "\n",
        "# guarda valores iniciales\n",
        "p0 = a\n",
        "#p0 = math.radians(p0)  # Convertir a radianes\n",
        "\n",
        "#guarda valores iniciales del error y del número de iteraciones\n",
        "tol =float(input(\"Ingrese el valor de la tolerancia: \"))\n",
        "nmax = int(input(\"Ingrese el número máximo de iteraciones: \"))\n",
        "#error = 100\n",
        "niter = 0"
      ],
      "metadata": {
        "colab": {
          "base_uri": "https://localhost:8080/"
        },
        "id": "ASUfMIk79y40",
        "outputId": "030b2e15-554a-4990-8c82-ab7a670e27c6"
      },
      "execution_count": 139,
      "outputs": [
        {
          "name": "stdout",
          "output_type": "stream",
          "text": [
            "Ingrese el valor de P0(Aproximacion inicial): 0.5\n",
            "Ingrese el valor de la tolerancia: 0.001\n",
            "Ingrese el número máximo de iteraciones: 100\n"
          ]
        }
      ]
    },
    {
      "cell_type": "code",
      "source": [
        "# Método de Punto Fijo\n",
        "# evaluo el primer punto en la funcion\n",
        "p=g(p0)\n",
        "error= abs(p - p0)\n",
        "#voy imprimiendo la tabla\n",
        "print(\"# iter\\t\\t p \\t\\t g(p) \\t\\t error\")\n",
        "print(\"{0} \\t\\t {1:6.4f} \\t {2:6.4f} \\t {3:6.4f}\".format(niter, p0, p ,error ))\n",
        "# ciclo iterativo\n",
        "while error > tol and niter < nmax:\n",
        "# Actualiza el valor anterior\n",
        "    p0 = p\n",
        "    # Calcula el nuevo valor\n",
        "    p = g(p0)\n",
        "\n",
        "    # Calcula el error\n",
        "    error = abs(p - p0)\n",
        "\n",
        "    # Incrementa el contador de iteraciones\n",
        "    niter += 1\n",
        "\n",
        "    # Imprime los resultados de la iteración actual\n",
        "    print(\"{0} \\t\\t {1:6.9f} \\t {2:6.9f} \\t {3:6.9f}\".format(niter, p0, p, error))\n",
        "\n",
        "# Verifica si el método funciono o no\n",
        "if error <= tol:\n",
        "    print(\"La raíz de la función dada en el intervalo  [{0:6.4f}, {1:6.4f}] es {2:6.9f}\".format(a0,b0,p))\n",
        "else:\n",
        "    print(f\"El método falló después de {nmax} iteraciones.\")\n",
        "\n"
      ],
      "metadata": {
        "colab": {
          "base_uri": "https://localhost:8080/"
        },
        "id": "IrPMDIUE-3KZ",
        "outputId": "2e6e3d47-48ca-4c9d-a60d-5406666735cb"
      },
      "execution_count": 140,
      "outputs": [
        {
          "output_type": "stream",
          "name": "stdout",
          "text": [
            "# iter\t\t p \t\t g(p) \t\t error\n",
            "0 \t\t 0.5000 \t 1.1447 \t 0.6447\n",
            "1 \t\t 1.144714243 \t 1.289604318 \t 0.144890075\n",
            "2 \t\t 1.289604318 \t 1.318014370 \t 0.028410052\n",
            "3 \t\t 1.318014370 \t 1.323443407 \t 0.005429037\n",
            "4 \t\t 1.323443407 \t 1.324475816 \t 0.001032410\n",
            "5 \t\t 1.324475816 \t 1.324671962 \t 0.000196146\n",
            "La raíz de la función dada en el intervalo  [1.0000, 2.0000] es 1.324671962\n"
          ]
        }
      ]
    },
    {
      "cell_type": "markdown",
      "source": [
        "Se tiene un ejemplo del código realizado, es decir, usando el método de iteracion se resuelve la función $$\n",
        "f(x) = x^3 - x - 1\n",
        "$$ con una aproximación $ P_0 = 1 $ y con un error $10^{-2}$"
      ],
      "metadata": {
        "id": "9T3vvviBETb6"
      }
    }
  ]
}