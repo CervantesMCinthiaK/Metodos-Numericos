{
  "nbformat": 4,
  "nbformat_minor": 0,
  "metadata": {
    "colab": {
      "provenance": [],
      "authorship_tag": "ABX9TyNkPm3dvt6Li0MruVLMVdUP",
      "include_colab_link": true
    },
    "kernelspec": {
      "name": "python3",
      "display_name": "Python 3"
    },
    "language_info": {
      "name": "python"
    }
  },
  "cells": [
    {
      "cell_type": "markdown",
      "metadata": {
        "id": "view-in-github",
        "colab_type": "text"
      },
      "source": [
        "<a href=\"https://colab.research.google.com/github/CervantesMCinthiaK/Metodos-Numericos/blob/main/Polinomio%20Interpolante%20de%20Newton%20con%20Sympy.ipynb\" target=\"_parent\"><img src=\"https://colab.research.google.com/assets/colab-badge.svg\" alt=\"Open In Colab\"/></a>"
      ]
    },
    {
      "cell_type": "markdown",
      "source": [
        "#Polinomio Interpolante de Newton con Sympy\n",
        "Cervantes Martinez Cinthia Karina\n"
      ],
      "metadata": {
        "id": "CShiDmtpE0AT"
      }
    },
    {
      "cell_type": "code",
      "source": [
        "#Importamos las librerias que usaremos\n",
        "import matplotlib.pyplot as plt\n",
        "from sympy import symbols, expand"
      ],
      "metadata": {
        "id": "Tdc9ZAPgE0g_"
      },
      "execution_count": 76,
      "outputs": []
    },
    {
      "cell_type": "code",
      "source": [
        "# Funcion para calcular las diferencias divididas ojo si es posible simplificada.\n",
        "def diferencias_divididas(x_vals, f_vals):\n",
        "    n = len(x_vals)\n",
        "    # Diferencias divididas, inicia con los valores de f(x)\n",
        "    diff_table = [f_vals]\n",
        "\n",
        "    # Calcular las diferencias divididas\n",
        "    for j in range(1, n):\n",
        "        diffs = []\n",
        "        for i in range(n-j):\n",
        "            # Formula de las diferencias divididas\n",
        "            diff = (diff_table[j-1][i+1] - diff_table[j-1][i]) / (x_vals[i+j] - x_vals[i])\n",
        "            diffs.append(diff)\n",
        "        diff_table.append(diffs)\n",
        "\n",
        "    return diff_table"
      ],
      "metadata": {
        "id": "XsZpfaYl_Lms"
      },
      "execution_count": 77,
      "outputs": []
    },
    {
      "cell_type": "code",
      "source": [
        "# Funcion para construir el polinomio de Newton a partir de las diferencias divididas\n",
        "def polinomio_newton(x_vals, diff_table, x):\n",
        "    n = len(x_vals)\n",
        "    polinomio = diff_table[0][0]  # Primer valor de la tabla de diferencias\n",
        "    term = 1  # Producto de (x - x_i)\n",
        "\n",
        "    # Imprime el procedimiento\n",
        "    print(\"\\nProcedimiento de construccion del Polinomio de Newton:\")\n",
        "    print(\"Polinomio de Newton P(x) = \", end=\"\")\n",
        "\n",
        "    # Construccion del polinomio de Newton\n",
        "    for i in range(1, n):\n",
        "        term *= (x - x_vals[i-1])\n",
        "        polinomio += term * diff_table[i][0]\n",
        "        # Imprimir el termino añadido\n",
        "        print(f\"{term} * {diff_table[i][0]:.2f}\", end=\"\")\n",
        "        if i < n - 1:\n",
        "            print(\" + \", end=\"\")\n",
        "    print(\"\\n\")\n",
        "\n",
        "    return polinomio\n"
      ],
      "metadata": {
        "id": "ZMSv8aSG_UPw"
      },
      "execution_count": 78,
      "outputs": []
    },
    {
      "cell_type": "code",
      "source": [
        "# Funcion para graficar el polinomio y los puntos de la tabla\n",
        "def graficar_polinomio(x_vals, f_vals, polinomio_func):\n",
        "    # Crear una malla de x para graficar el polinomio de Newton suavemente\n",
        "    x_vals_denso = [x / 100 for x in range(int(min(x_vals) * 100), int(max(x_vals) * 100))]\n",
        "    y_vals_denso = [polinomio_func(x) for x in x_vals_denso]\n",
        "\n",
        "    # Graficar los puntos de la tabla (x_i, f(x_i))\n",
        "    plt.scatter(x_vals, f_vals, color=\"magenta\", marker=\"o\", label=\"Datos Originales\")\n",
        "\n",
        "    # Graficar el polinomio de Newton en color azul\n",
        "    plt.plot(x_vals_denso, y_vals_denso, color=\"blue\", label=\"Polinomio Interpolante\")\n",
        "\n",
        "    # Añadir los valores de cada punto (x_i, f(x_i)) en la gráfica\n",
        "    for i, (x, y) in enumerate(zip(x_vals, f_vals)):\n",
        "        # Colocar el texto cerca de cada punto\n",
        "        plt.text(x, y, f\"({x:.2f}, {y:.2f})\", fontsize=9, ha=\"right\", color=\"black\")\n",
        "\n",
        "    # Configurar el titulo, etiquetas y leyenda\n",
        "    plt.title(\"Grafico del Polinomio Interpolante con los Datos Originales\")\n",
        "    plt.xlabel(\"x\", fontsize=8, color=\"gray\")\n",
        "    plt.ylabel(\"f(x)\", fontsize=8, color=\"gray\")\n",
        "    plt.axhline(0, color=\"gray\")\n",
        "    plt.axvline(0, color=\"gray\")\n",
        "    plt.grid(True)\n",
        "    plt.legend()\n",
        "    plt.savefig(\"output.png\") # Guardar grafico como imagen PNG\n",
        "    plt.show()"
      ],
      "metadata": {
        "id": "rRLZk4Jq_boZ"
      },
      "execution_count": 79,
      "outputs": []
    },
    {
      "cell_type": "code",
      "source": [
        "# Funcion para imprimir la tabla de diferencias divididas\n",
        "def imprimir_tabla_diferencias(x_vals, diff_table):\n",
        "    print(\"\\nTabla de Diferencias Divididas:\")\n",
        "    # Imprimir encabezados\n",
        "    encabezado = [\"x\", \"f(x)\"]\n",
        "    for i in range(1, len(diff_table)):\n",
        "        encabezado.append(f\"Δy^{i}\")\n",
        "\n",
        "    print(\"   \".join(encabezado))  # Imprimir encabezado de la tabla\n",
        "\n",
        "    # Imprimir filas\n",
        "    for i in range(len(diff_table[0])):\n",
        "        fila = [f\"{x_vals[i]:.2f}\", f\"{diff_table[0][i]:.2f}\"]\n",
        "        for j in range(1, len(diff_table)):\n",
        "            if i < len(diff_table[j]):\n",
        "                fila.append(f\"{diff_table[j][i]:.2f}\")\n",
        "            else:\n",
        "                fila.append(\"    \")  # Espacio vacio cuando no hay valores en esa celda\n",
        "        print(\"   \".join(fila))"
      ],
      "metadata": {
        "id": "Y6NpDXm3_g2M"
      },
      "execution_count": 80,
      "outputs": []
    },
    {
      "cell_type": "code",
      "source": [
        "# Funcion principal para obtener el polinomio de interpolacion de Newton\n",
        "def main():\n",
        "    # Ingresar los puntos (x_i, f(x_i))\n",
        "    n = int(input(\"¿Cuantos puntos de datos tiene la tabla? \"))\n",
        "\n",
        "    x_vals = []\n",
        "    f_vals = []\n",
        "\n",
        "    for i in range(n):\n",
        "        x_i = float(input(f\"Ingrese el valor de x_{i+1}: \"))\n",
        "        f_i = float(input(f\"Ingrese el valor de f(x_{i+1}): \"))\n",
        "        x_vals.append(x_i)\n",
        "        f_vals.append(f_i)\n",
        "\n",
        "    # Calcular las diferencias divididas\n",
        "    diff_table = diferencias_divididas(x_vals, f_vals)\n",
        "\n",
        "    # Imprimir la tabla de diferencias divididas\n",
        "    imprimir_tabla_diferencias(x_vals, diff_table)\n",
        "\n",
        "    # Crear el polinomio de Newton\n",
        "    x = symbols('x')\n",
        "    polinomio = polinomio_newton(x_vals, diff_table, x)\n",
        "\n",
        "    # Expansion del polinomio\n",
        "    polinomio_expandido = expand(polinomio)\n",
        "    print(\"\\nPor lo tanto, el polinomio de interpolacion de Newton es:\\n \")\n",
        "    print(f\"{polinomio_expandido}\")\n",
        "    print(\"\")\n",
        "    print(\"\\ncon su respectiva grafica: \\n\")\n",
        "    # Graficamos el polinomio con los puntos originales\n",
        "    graficar_polinomio(x_vals, f_vals, lambda x_val: polinomio.subs(x, x_val))\n",
        "\n",
        "# Ejecutamos el programa\n",
        "if __name__ == \"__main__\":\n",
        "    main()"
      ],
      "metadata": {
        "colab": {
          "base_uri": "https://localhost:8080/",
          "height": 1000
        },
        "id": "G_z79uGM_oYE",
        "outputId": "6efacfb0-9175-449e-dd59-c11356990e11"
      },
      "execution_count": 81,
      "outputs": [
        {
          "output_type": "stream",
          "name": "stdout",
          "text": [
            "¿Cuantos puntos de datos tiene la tabla? 6\n",
            "Ingrese el valor de x_1: 0\n",
            "Ingrese el valor de f(x_1): -5\n",
            "Ingrese el valor de x_2: 1\n",
            "Ingrese el valor de f(x_2): 1\n",
            "Ingrese el valor de x_3: 2\n",
            "Ingrese el valor de f(x_3): 9\n",
            "Ingrese el valor de x_4: 3\n",
            "Ingrese el valor de f(x_4): 25\n",
            "Ingrese el valor de x_5: 4\n",
            "Ingrese el valor de f(x_5): 55\n",
            "Ingrese el valor de x_6: 5\n",
            "Ingrese el valor de f(x_6): 105\n",
            "\n",
            "Tabla de Diferencias Divididas:\n",
            "x   f(x)   Δy^1   Δy^2   Δy^3   Δy^4   Δy^5\n",
            "0.00   -5.00   6.00   1.00   1.00   0.00   0.00\n",
            "1.00   1.00   8.00   4.00   1.00   0.00       \n",
            "2.00   9.00   16.00   7.00   1.00              \n",
            "3.00   25.00   30.00   10.00                     \n",
            "4.00   55.00   50.00                            \n",
            "5.00   105.00                                   \n",
            "\n",
            "Procedimiento de construccion del Polinomio de Newton:\n",
            "Polinomio de Newton P(x) = x * 6.00 + x*(x - 1.0) * 1.00 + x*(x - 2.0)*(x - 1.0) * 1.00 + x*(x - 3.0)*(x - 2.0)*(x - 1.0) * 0.00 + x*(x - 4.0)*(x - 3.0)*(x - 2.0)*(x - 1.0) * 0.00\n",
            "\n",
            "\n",
            "Por lo tanto, el polinomio de interpolacion de Newton es:\n",
            " \n",
            "1.0*x**3 - 2.0*x**2 + 7.0*x - 5.0\n",
            "\n",
            "\n",
            "con su respectiva grafica: \n",
            "\n"
          ]
        },
        {
          "output_type": "display_data",
          "data": {
            "text/plain": [
              "<Figure size 640x480 with 1 Axes>"
            ],
            "image/png": "[encoded data removed]"
          },
          "metadata": {}
        }
      ]
    },
    {
      "cell_type": "markdown",
      "source": [
        "En este codigo ahora ingresamos la tabla de valores y nos da el polinomio junto con su grafica :\n",
        "\n",
        "$$\n",
        "\\begin{array}{|c|c|}\n",
        "\\hline\n",
        "x & f(x) \\\\\n",
        "\\hline\n",
        "0.0 & -5.00 \\\\\n",
        "1.0 & 1.00 \\\\\n",
        "2.0 & 9.00 \\\\\n",
        "3.0 & 25.00 \\\\\n",
        "4.0 & 55.00 \\\\\n",
        "5.0 & 105.00 \\\\\n",
        "\\hline\n",
        "\\end{array}\n",
        "$$"
      ],
      "metadata": {
        "id": "WzFk_27lI21q"
      }
    }
  ]
}