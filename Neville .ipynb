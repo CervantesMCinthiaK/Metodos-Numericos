{
  "nbformat": 4,
  "nbformat_minor": 0,
  "metadata": {
    "colab": {
      "provenance": [],
      "authorship_tag": "ABX9TyOaREgI+kqzVQdihaHJlphA",
      "include_colab_link": true
    },
    "kernelspec": {
      "name": "python3",
      "display_name": "Python 3"
    },
    "language_info": {
      "name": "python"
    }
  },
  "cells": [
    {
      "cell_type": "markdown",
      "metadata": {
        "id": "view-in-github",
        "colab_type": "text"
      },
      "source": [
        "<a href=\"https://colab.research.google.com/github/CervantesMCinthiaK/Metodos-Numericos/blob/main/Neville%20.ipynb\" target=\"_parent\"><img src=\"https://colab.research.google.com/assets/colab-badge.svg\" alt=\"Open In Colab\"/></a>"
      ]
    },
    {
      "cell_type": "code",
      "execution_count": 1,
      "metadata": {
        "colab": {
          "base_uri": "https://localhost:8080/"
        },
        "id": "ZlSNxvMl6qcX",
        "outputId": "c722f5fc-1aba-4f80-e67e-fa40eb0539a6"
      },
      "outputs": [
        {
          "output_type": "stream",
          "name": "stdout",
          "text": [
            "Tabla Q:\n",
            "[[0.52    0.      0.     ]\n",
            " [0.61    0.655   0.     ]\n",
            " [0.47    0.54    0.56875]]\n",
            "\n",
            "P(2.5) = 0.5687500000000001\n"
          ]
        }
      ],
      "source": [
        "import numpy as np\n",
        "\n",
        "def construir_tabla_Q(x, f, xp):\n",
        "    n = len(x)\n",
        "    Q = np.zeros((n, n))\n",
        "\n",
        "    # Colocar los valores iniciales en la primera columna\n",
        "    for i in range(n):\n",
        "        Q[i, 0] = f[i]\n",
        "\n",
        "    # Construir la tabla Q\n",
        "    for j in range(1, n):  # Columnas\n",
        "        for i in range(j, n):  # Filas\n",
        "            Q[i, j] = ((xp - x[i-j]) * Q[i, j-1] - (xp - x[i]) * Q[i-1, j-1]) / (x[i] - x[i-j])\n",
        "\n",
        "    # El valor del polinomio evaluado en xp es Q[n-1, n-1]\n",
        "    Pxp = Q[n-1, n-1]\n",
        "\n",
        "    return Q, Pxp\n",
        "\n",
        "# Ejemplo de uso\n",
        "x = [1, 2, 3]  # Nodos\n",
        "f = [0.52, 0.61, 0.47]  # Valores f(x) en esos nodos\n",
        "xp = 2.5       # Punto donde queremos evaluar P(x)\n",
        "\n",
        "tabla_Q, valor_Pxp = construir_tabla_Q(x, f, xp)\n",
        "\n",
        "print(\"Tabla Q:\")\n",
        "print(tabla_Q)\n",
        "print(f\"\\nP({xp}) = {valor_Pxp}\")\n"
      ]
    }
  ]
}