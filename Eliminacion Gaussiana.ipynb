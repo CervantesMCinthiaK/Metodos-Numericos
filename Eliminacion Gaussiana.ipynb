{
  "nbformat": 4,
  "nbformat_minor": 0,
  "metadata": {
    "colab": {
      "provenance": [],
      "authorship_tag": "ABX9TyOl+fd/7RG0CLI3msDJhBDu",
      "include_colab_link": true
    },
    "kernelspec": {
      "name": "python3",
      "display_name": "Python 3"
    },
    "language_info": {
      "name": "python"
    }
  },
  "cells": [
    {
      "cell_type": "markdown",
      "metadata": {
        "id": "view-in-github",
        "colab_type": "text"
      },
      "source": [
        "<a href=\"https://colab.research.google.com/github/CervantesMCinthiaK/Metodos-Numericos/blob/main/Eliminacion%20Gaussiana.ipynb\" target=\"_parent\"><img src=\"https://colab.research.google.com/assets/colab-badge.svg\" alt=\"Open In Colab\"/></a>"
      ]
    },
    {
      "cell_type": "markdown",
      "source": [
        "#Eliminación Gaussiana\n",
        "Nombre: Cervantes Martinez Cinthia Karina"
      ],
      "metadata": {
        "id": "UKazyPickhS8"
      }
    },
    {
      "cell_type": "code",
      "source": [
        "#Definir la biblioteca que se usara\n",
        "import numpy as np"
      ],
      "metadata": {
        "id": "a87MQivPlDIo"
      },
      "execution_count": 3,
      "outputs": []
    },
    {
      "cell_type": "code",
      "source": [
        "# Definir la matriz de coeficientes A y el vector b en listas\n",
        "#Definimos la matriz de coeficientes usando  un array bidimensional de tamaño 4x4.\n",
        "A = np.array([\n",
        "    [1, -1, 2, -1],  # E1: 1*x1 - 1*x2 + 2*x3 - 1*x4\n",
        "    [2, -2, 3, -3],  # E2: 2*x1 - 2*x2 + 3*x3 - 3*x4\n",
        "    [1, 1, 1, 0],    # E3: 1*x1 + 1*x2 + 1*x3 + 0*x4\n",
        "    [1, -1, 4, 3]    # E4: 1*x1 - 1*x2 + 4*x3 + 3*x4\n",
        "], dtype=float) #Aqui, el sistema usted puede cambiarlo a uno de mayor o de menor tamaño.\n",
        "\n",
        "#Y respectivamente b que son los terminos constantes de tamaño 4x1\n",
        "b = np.array([-8, -20, -2, 4], dtype=float) #aqui tambien se puede cambiar los valores"
      ],
      "metadata": {
        "id": "T79pRw38lUyd"
      },
      "execution_count": 4,
      "outputs": []
    },
    {
      "cell_type": "code",
      "source": [
        "# Realizamos el codigo de la eliminacion gaussiana\n",
        "def gauss_elimination(A, b):\n",
        "    n = len(A)\n",
        "\n",
        "    # Combinamos la matriz A y el vector b en una matriz aumentada [A|b]\n",
        "    Ab = np.hstack([A, b.reshape(-1, 1)])\n",
        "    print(\"Matriz aumentada inicial [A|b]:\")\n",
        "    print(Ab)\n",
        "    print()\n",
        "\n",
        "    # Paso 1: Eliminacion hacia adelante\n",
        "    for i in range(n - 1):\n",
        "        # Paso 2:Verificar si el pivote es cero\n",
        "        if Ab[i, i] == 0:\n",
        "            print(f\"Pivote cero en fila {i}, intercambiando filas\")\n",
        "             # Paso 3: Intercambio de filas si el pivote es diferente de i\n",
        "            for k in range(i + 1, n):\n",
        "                if Ab[k, i] != 0:\n",
        "                    Ab[[i, k]] = Ab[[k, i]]\n",
        "                    print(f\"Intercambio de filas E{i+1} y E{k+1}:\")\n",
        "                    print(Ab)\n",
        "                    break\n",
        "\n",
        "        # Paso 4: Realizamos la eliminacion hacia abajo para hacer ceros debajo del pivote\n",
        "        for j in range(i + 1, n):\n",
        "            if Ab[i, i] == 0:  # Evitar división por cero\n",
        "                print(\"Pivote es cero, el sistema no tiene solucion unica.\")\n",
        "                return None\n",
        "            # Paso 5: Calcular el factor de eliminacion m_ji\n",
        "            m_ji = Ab[j, i] / Ab[i, i]\n",
        "            # Paso 6: Actualizamos la fila j\n",
        "            Ab[j, i:] -= m_ji * Ab[i, i:]  # Sustitucion de la fila j\n",
        "            print(f\"(E{j+1} - {m_ji:.2f} * E{i+1}) → E{j+1}:\")\n",
        "            print(Ab)\n",
        "            print()\n",
        "\n",
        "        #  # Paso 7: Verificamos si tiene solucion unica o no con b ≠ 0\n",
        "        for row in Ab:\n",
        "            if np.allclose(row[:-1], 0) and not np.isclose(row[-1], 0):\n",
        "                print(\"Sistema inconsistente. No tiene solución.\")\n",
        "                return None\n",
        "\n",
        "    # Paso 8: Sustitucion hacia atras\n",
        "    x = np.zeros(n)\n",
        "\n",
        "    # Imprimimos la sustitucion hacia atras\n",
        "    print(\"\\nSustitucion hacia atras:\\n\")\n",
        "\n",
        "    # Resolver ultima variable\n",
        "    x[-1] = Ab[-1, -1] / Ab[-1, -2]\n",
        "    print(f\"x{n} = {Ab[-1, -1]} / {Ab[-1, -2]} = {x[-1]:.2f}\")\n",
        "\n",
        "    # Paso 9: Realizamos sustitucion hacia atras para las demas incognita\n",
        "    for i in range(n - 2, -1, -1):\n",
        "        suma = np.dot(Ab[i, i + 1:n], x[i + 1:n])  # Productos de las incognitas ya calculadas\n",
        "        x[i] = (Ab[i, -1] - suma) / Ab[i, i]  # Calculamos la incognita\n",
        "        print(f\"x{i+1} = ({Ab[i, -1]} - {suma:.2f}) / {Ab[i, i]} = {x[i]:.2f}\")\n",
        "    # Paso 10: Retornamos la solucion\n",
        "    return x\n",
        "\n",
        "# Se llama a la funcion para resolver el sistema\n",
        "sol = gauss_elimination(A, b)\n",
        "\n",
        "# Imprimir la solucion final\n",
        "if sol is not None:\n",
        "    print(\"\\nLa solución es:\")\n",
        "    for i in range(len(sol)):\n",
        "        print(f\"x{i+1} = {sol[i]:.2f}\")\n",
        "\n"
      ],
      "metadata": {
        "colab": {
          "base_uri": "https://localhost:8080/"
        },
        "id": "EKRhklEdTXtF",
        "outputId": "d51da4fc-6995-41ab-cbb6-68be41cd8d7f"
      },
      "execution_count": 5,
      "outputs": [
        {
          "output_type": "stream",
          "name": "stdout",
          "text": [
            "Matriz aumentada inicial [A|b]:\n",
            "[[  1.  -1.   2.  -1.  -8.]\n",
            " [  2.  -2.   3.  -3. -20.]\n",
            " [  1.   1.   1.   0.  -2.]\n",
            " [  1.  -1.   4.   3.   4.]]\n",
            "\n",
            "(E2 - 2.00 * E1) → E2:\n",
            "[[ 1. -1.  2. -1. -8.]\n",
            " [ 0.  0. -1. -1. -4.]\n",
            " [ 1.  1.  1.  0. -2.]\n",
            " [ 1. -1.  4.  3.  4.]]\n",
            "\n",
            "(E3 - 1.00 * E1) → E3:\n",
            "[[ 1. -1.  2. -1. -8.]\n",
            " [ 0.  0. -1. -1. -4.]\n",
            " [ 0.  2. -1.  1.  6.]\n",
            " [ 1. -1.  4.  3.  4.]]\n",
            "\n",
            "(E4 - 1.00 * E1) → E4:\n",
            "[[ 1. -1.  2. -1. -8.]\n",
            " [ 0.  0. -1. -1. -4.]\n",
            " [ 0.  2. -1.  1.  6.]\n",
            " [ 0.  0.  2.  4. 12.]]\n",
            "\n",
            "Pivote cero en fila 1, intercambiando filas\n",
            "Intercambio de filas E2 y E3:\n",
            "[[ 1. -1.  2. -1. -8.]\n",
            " [ 0.  2. -1.  1.  6.]\n",
            " [ 0.  0. -1. -1. -4.]\n",
            " [ 0.  0.  2.  4. 12.]]\n",
            "(E3 - 0.00 * E2) → E3:\n",
            "[[ 1. -1.  2. -1. -8.]\n",
            " [ 0.  2. -1.  1.  6.]\n",
            " [ 0.  0. -1. -1. -4.]\n",
            " [ 0.  0.  2.  4. 12.]]\n",
            "\n",
            "(E4 - 0.00 * E2) → E4:\n",
            "[[ 1. -1.  2. -1. -8.]\n",
            " [ 0.  2. -1.  1.  6.]\n",
            " [ 0.  0. -1. -1. -4.]\n",
            " [ 0.  0.  2.  4. 12.]]\n",
            "\n",
            "(E4 - -2.00 * E3) → E4:\n",
            "[[ 1. -1.  2. -1. -8.]\n",
            " [ 0.  2. -1.  1.  6.]\n",
            " [ 0.  0. -1. -1. -4.]\n",
            " [ 0.  0.  0.  2.  4.]]\n",
            "\n",
            "\n",
            "Sustitucion hacia atras:\n",
            "\n",
            "x4 = 4.0 / 2.0 = 2.00\n",
            "x3 = (-4.0 - -2.00) / -1.0 = 2.00\n",
            "x2 = (6.0 - 0.00) / 2.0 = 3.00\n",
            "x1 = (-8.0 - -1.00) / 1.0 = -7.00\n",
            "\n",
            "La solución es:\n",
            "x1 = -7.00\n",
            "x2 = 3.00\n",
            "x3 = 2.00\n",
            "x4 = 2.00\n"
          ]
        }
      ]
    },
    {
      "cell_type": "markdown",
      "source": [
        "En este programa se realiza un ejercicio de un sistema de ecuaciones como matriz aumentada por eliminacion gaussiana(sustitucion hacia atras) para conocer los valores de $x_1,x_2,...x_n$ de: \\\\\n",
        "$\n",
        "E1 : x_1 − x_2 + 2x_3 − x_4 = −8\\\\\n",
        "E2 : 2x_1 − 2x_2 + 3x_3 − 3x_4 = −20\\\\\n",
        "E3 : x_1 + x_2 + x_3 = −2\\\\\n",
        "E4 : x_1 − x_2 + 4x_3 + 3x_4 = 4$"
      ],
      "metadata": {
        "id": "BdMdOHvG-nD6"
      }
    }
  ]
}