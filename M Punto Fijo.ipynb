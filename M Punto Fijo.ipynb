{
  "nbformat": 4,
  "nbformat_minor": 0,
  "metadata": {
    "colab": {
      "provenance": [],
      "authorship_tag": "ABX9TyONRJx6WXigHlo/Q3voNT3+",
      "include_colab_link": true
    },
    "kernelspec": {
      "name": "python3",
      "display_name": "Python 3"
    },
    "language_info": {
      "name": "python"
    }
  },
  "cells": [
    {
      "cell_type": "markdown",
      "metadata": {
        "id": "view-in-github",
        "colab_type": "text"
      },
      "source": [
        "<a href=\"https://colab.research.google.com/github/CervantesMCinthiaK/Metodos-Numericos/blob/main/M%20Punto%20Fijo.ipynb\" target=\"_parent\"><img src=\"https://colab.research.google.com/assets/colab-badge.svg\" alt=\"Open In Colab\"/></a>"
      ]
    },
    {
      "cell_type": "markdown",
      "source": [
        "# Método de Iteración de Punto Fijo\n"
      ],
      "metadata": {
        "id": "00vLH2JfTOMp"
      }
    },
    {
      "cell_type": "code",
      "source": [
        "from math import *\n",
        "import numpy as np\n",
        "import matplotlib . pyplot as plt"
      ],
      "metadata": {
        "id": "-7kIM8qtTOYB"
      },
      "execution_count": 156,
      "outputs": []
    },
    {
      "cell_type": "code",
      "source": [
        "#El usuario ingresa la función que desea iterar\n",
        "funcion=(input(\"Ingrese la funcion: \"))"
      ],
      "metadata": {
        "colab": {
          "base_uri": "https://localhost:8080/"
        },
        "id": "NiyOuo9pUXUH",
        "outputId": "e077a892-44e6-46f1-d986-5845ad17866e"
      },
      "execution_count": 157,
      "outputs": [
        {
          "name": "stdout",
          "output_type": "stream",
          "text": [
            "Ingrese la funcion: (x + 1) ** (1/3)\n"
          ]
        }
      ]
    },
    {
      "cell_type": "code",
      "source": [
        "#se define dicha función ingresada por el usuario\n",
        "def g(x):\n",
        "  return eval(funcion)"
      ],
      "metadata": {
        "id": "gjc0kzUu9WVZ"
      },
      "execution_count": 158,
      "outputs": []
    },
    {
      "cell_type": "code",
      "source": [
        "#teniendo en cuenta los intervalos\n",
        "print(\"Ingrese el intervalo de la funcion\")\n",
        "a0 = float(input(\"Ingrese  a: \"))\n",
        "b0 = float(input(\"Ingresa  b: \"))"
      ],
      "metadata": {
        "colab": {
          "base_uri": "https://localhost:8080/"
        },
        "id": "M1Jz3Y4rRpl1",
        "outputId": "6f452666-6028-4c6b-8629-5efa25195fa4"
      },
      "execution_count": 159,
      "outputs": [
        {
          "name": "stdout",
          "output_type": "stream",
          "text": [
            "Ingrese el intervalo de la funcion\n",
            "Ingrese  a: 1\n",
            "Ingresa  b: 2\n"
          ]
        }
      ]
    },
    {
      "cell_type": "code",
      "source": [
        "# Ingreso datos de entrada para los diferentes métodos a trabajar\n",
        "a= float(input(\"Ingrese el valor de P0(Aproximacion inicial): \"))\n",
        "\n",
        "# guarda valores iniciales\n",
        "p0 = a\n",
        "\n",
        "#guarda valores iniciales del error y del número de iteraciones\n",
        "tol =float(input(\"Ingrese el valor de la tolerancia: \"))\n",
        "nmax = int(input(\"Ingrese el número máximo de iteraciones: \"))\n",
        "error = 100\n",
        "niter = 0"
      ],
      "metadata": {
        "colab": {
          "base_uri": "https://localhost:8080/"
        },
        "id": "ASUfMIk79y40",
        "outputId": "c5245ba2-7244-4316-a9e1-5c6866c6daa0"
      },
      "execution_count": 160,
      "outputs": [
        {
          "name": "stdout",
          "output_type": "stream",
          "text": [
            "Ingrese el valor de P0(Aproximacion inicial): 1\n",
            "Ingrese el valor de la tolerancia: 0.0001\n",
            "Ingrese el número máximo de iteraciones: 100\n"
          ]
        }
      ]
    },
    {
      "cell_type": "code",
      "source": [
        "# Método de Punto Fijo\n",
        "# evaluo el primer punto en la funcion\n",
        "p=g(p0)\n",
        "#voy imprimiendo la tabla\n",
        "print(\"# iter\\t\\t p \\t\\t g(p) \\t\\t error\")\n",
        "print(\"{0} \\t\\t {1:6.4f} \\t {2:6.4f} \\t {3:6.4f}\".format(niter, p0, p ,error ))\n",
        "# ciclo iterativo\n",
        "while error > tol and niter < nmax:\n",
        "# Actualiza el valor anterior\n",
        "    p0 = p\n",
        "    # Calcula el nuevo valor\n",
        "    p = g(p0)\n",
        "\n",
        "    # Calcula el error\n",
        "    error = abs(p - p0)\n",
        "\n",
        "    # Incrementa el contador de iteraciones\n",
        "    niter += 1\n",
        "\n",
        "    # Imprime los resultados de la iteración actual\n",
        "    print(\"{0} \\t\\t {1:6.9f} \\t {2:6.9f} \\t {3:6.9f}\".format(niter, p0, p, error))\n",
        "\n",
        "# Verifica si el método funciono o no\n",
        "if error <= tol:\n",
        "    print(\"La raíz de la función dada en el intervalo  [{0:6.4f}, {1:6.4f}] es {2:6.9f}\".format(a0,b0,p))\n",
        "else:\n",
        "    print(f\"El método falló después de {nmax} iteraciones.\")\n",
        "\n"
      ],
      "metadata": {
        "colab": {
          "base_uri": "https://localhost:8080/"
        },
        "id": "IrPMDIUE-3KZ",
        "outputId": "e37ffe29-5f09-4522-d7ef-a2c914826c8b"
      },
      "execution_count": 161,
      "outputs": [
        {
          "output_type": "stream",
          "name": "stdout",
          "text": [
            "# iter\t\t p \t\t g(p) \t\t error\n",
            "0 \t\t 1.0000 \t 1.2599 \t 100.0000\n",
            "1 \t\t 1.259921050 \t 1.312293837 \t 0.052372787\n",
            "2 \t\t 1.312293837 \t 1.322353819 \t 0.010059982\n",
            "3 \t\t 1.322353819 \t 1.324268745 \t 0.001914925\n",
            "4 \t\t 1.324268745 \t 1.324632625 \t 0.000363881\n",
            "5 \t\t 1.324632625 \t 1.324701749 \t 0.000069123\n",
            "La raíz de la función dada en el intervalo  [1.0000, 2.0000] es 1.324701749\n"
          ]
        }
      ]
    }
  ]
}