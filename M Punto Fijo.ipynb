{
  "nbformat": 4,
  "nbformat_minor": 0,
  "metadata": {
    "colab": {
      "provenance": [],
      "authorship_tag": "ABX9TyNBJdS8s47zeRmoMWDYnUt8",
      "include_colab_link": true
    },
    "kernelspec": {
      "name": "python3",
      "display_name": "Python 3"
    },
    "language_info": {
      "name": "python"
    }
  },
  "cells": [
    {
      "cell_type": "markdown",
      "metadata": {
        "id": "view-in-github",
        "colab_type": "text"
      },
      "source": [
        "<a href=\"https://colab.research.google.com/github/CervantesMCinthiaK/Metodos-Numericos/blob/main/M%20Punto%20Fijo.ipynb\" target=\"_parent\"><img src=\"https://colab.research.google.com/assets/colab-badge.svg\" alt=\"Open In Colab\"/></a>"
      ]
    },
    {
      "cell_type": "markdown",
      "source": [
        "# Método de Iteración de Punto Fijo\n"
      ],
      "metadata": {
        "id": "00vLH2JfTOMp"
      }
    },
    {
      "cell_type": "code",
      "source": [
        "from math import *\n",
        "import numpy as np\n",
        "import sympy as sp #por si se ingresa funciones trigonometricas\n",
        "import matplotlib . pyplot as plt"
      ],
      "metadata": {
        "id": "-7kIM8qtTOYB"
      },
      "execution_count": 45,
      "outputs": []
    },
    {
      "cell_type": "code",
      "source": [
        "#El usuario ingresa la función que desea iterar\n",
        "funcion=(input(\"Ingrese la funcion: \"))"
      ],
      "metadata": {
        "colab": {
          "base_uri": "https://localhost:8080/"
        },
        "id": "NiyOuo9pUXUH",
        "outputId": "b099d0c8-8b95-42f2-8456-1bb616d3d82a"
      },
      "execution_count": 51,
      "outputs": [
        {
          "name": "stdout",
          "output_type": "stream",
          "text": [
            "Ingrese la funcion: (x+1)**(1/3)\n"
          ]
        }
      ]
    },
    {
      "cell_type": "code",
      "source": [
        "#se define dicha función ingresada por el usuario\n",
        "def g(x):\n",
        "  return eval(funcion)"
      ],
      "metadata": {
        "id": "gjc0kzUu9WVZ"
      },
      "execution_count": 52,
      "outputs": []
    },
    {
      "cell_type": "code",
      "source": [
        "#teniendo en cuenta los intervalos\n",
        "print(\"Ingrese el intervalo de la funcion\")\n",
        "a0 = float(input(\"Ingrese  a: \"))\n",
        "b0 = float(input(\"Ingresa  b: \"))"
      ],
      "metadata": {
        "colab": {
          "base_uri": "https://localhost:8080/"
        },
        "id": "M1Jz3Y4rRpl1",
        "outputId": "dbb8e665-3624-4a08-cad4-f5ab949ef21a"
      },
      "execution_count": 53,
      "outputs": [
        {
          "name": "stdout",
          "output_type": "stream",
          "text": [
            "Ingrese el intervalo de la funcion\n",
            "Ingrese  a: 1\n",
            "Ingresa  b: 2\n"
          ]
        }
      ]
    },
    {
      "cell_type": "code",
      "source": [
        "# Ingreso datos de entrada para los diferentes métodos a trabajar\n",
        "a= float(input(\"Ingrese el valor de P0(Aproximacion inicial): \"))\n",
        "\n",
        "# guarda valores iniciales\n",
        "p0 = a\n",
        "\n",
        "#guarda valores iniciales del error y del número de iteraciones\n",
        "tol =float(input(\"Ingrese el valor de la tolerancia: \"))\n",
        "nmax = int(input(\"Ingrese el número máximo de iteraciones: \"))\n",
        "error = 100\n",
        "niter = 0"
      ],
      "metadata": {
        "colab": {
          "base_uri": "https://localhost:8080/"
        },
        "id": "ASUfMIk79y40",
        "outputId": "538e79af-9396-4761-d35b-cc6bbee09b06"
      },
      "execution_count": 54,
      "outputs": [
        {
          "name": "stdout",
          "output_type": "stream",
          "text": [
            "Ingrese el valor de P0(Aproximacion inicial): 1\n",
            "Ingrese el valor de la tolerancia: 0.01\n",
            "Ingrese el número máximo de iteraciones: 100\n"
          ]
        }
      ]
    },
    {
      "cell_type": "code",
      "source": [
        "# Método de Punto Fijo\n",
        "# evaluo el primer punto en la funcion\n",
        "p=g(p0)\n",
        "#voy imprimiendo la tabla\n",
        "print(\"# iter\\t\\t p \\t\\t g(p) \\t\\t error\")\n",
        "print(\"{0} \\t\\t {1:6.4f} \\t {2:6.4f} \\t {3:6.4f}\".format(niter, p0, p ,error ))\n",
        "# ciclo iterativo\n",
        "while error > tol and niter < nmax:\n",
        "# Actualiza el valor anterior\n",
        "    p0 = p\n",
        "    # Calcula el nuevo valor\n",
        "    p = g(p0)\n",
        "\n",
        "    # Calcula el error\n",
        "    error = abs(p - p0)\n",
        "\n",
        "    # Incrementa el contador de iteraciones\n",
        "    niter += 1\n",
        "\n",
        "    # Imprime los resultados de la iteración actual con 6 decimales despues del punto\n",
        "    print(\"{0} \\t\\t {1:6.6f} \\t {2:6.6f} \\t {3:6.6f}\".format(niter, p0, p, error))\n",
        "\n",
        "# Verifica si el método funciono o no\n",
        "if error <= tol:\n",
        "    print(\"La raíz de la función dada en el intervalo  [{0:6.4f}, {1:6.4f}] es {2:6.6f}\".format(a0,b0,p))\n",
        "else:\n",
        "    print(f\"El método falló después de {nmax} iteraciones.\")\n",
        "\n"
      ],
      "metadata": {
        "colab": {
          "base_uri": "https://localhost:8080/"
        },
        "id": "IrPMDIUE-3KZ",
        "outputId": "344d4feb-a25e-4393-eff3-57d5ebe28402"
      },
      "execution_count": 55,
      "outputs": [
        {
          "output_type": "stream",
          "name": "stdout",
          "text": [
            "# iter\t\t p \t\t g(p) \t\t error\n",
            "0 \t\t 1.0000 \t 1.2599 \t 100.0000\n",
            "1 \t\t 1.259921 \t 1.312294 \t 0.052373\n",
            "2 \t\t 1.312294 \t 1.322354 \t 0.010060\n",
            "3 \t\t 1.322354 \t 1.324269 \t 0.001915\n",
            "La raíz de la función dada en el intervalo  [1.0000, 2.0000] es 1.324269\n"
          ]
        }
      ]
    },
    {
      "cell_type": "markdown",
      "source": [
        "Se tiene un ejemplo del código realizado, es decir, usando el método punto fijo se resuelve la función $$\n",
        "f(x) = x^3 - x - 1\n",
        "$$ con una aproximación $ P_0 = 1 $ y con un error $10^{-2}$ el cual se reescribió de la siguiente manera: $$\n",
        "g(x) = (x+1)^{1/3}\n",
        "$$ debido a que en esa función se encuentra una raíz dentro del intervalo [1,2]"
      ],
      "metadata": {
        "id": "VhQS5e1Lrmi3"
      }
    }
  ]
}