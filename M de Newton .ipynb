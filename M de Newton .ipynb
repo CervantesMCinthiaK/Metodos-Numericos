{
  "nbformat": 4,
  "nbformat_minor": 0,
  "metadata": {
    "colab": {
      "provenance": [],
      "authorship_tag": "ABX9TyMcMUKiv/fehUsS4fsuCyCr",
      "include_colab_link": true
    },
    "kernelspec": {
      "name": "python3",
      "display_name": "Python 3"
    },
    "language_info": {
      "name": "python"
    }
  },
  "cells": [
    {
      "cell_type": "markdown",
      "metadata": {
        "id": "view-in-github",
        "colab_type": "text"
      },
      "source": [
        "<a href=\"https://colab.research.google.com/github/CervantesMCinthiaK/Metodos-Numericos/blob/main/M%20de%20Newton%20.ipynb\" target=\"_parent\"><img src=\"https://colab.research.google.com/assets/colab-badge.svg\" alt=\"Open In Colab\"/></a>"
      ]
    },
    {
      "cell_type": "markdown",
      "source": [
        "# Método de Newton\n",
        "\n"
      ],
      "metadata": {
        "id": "wKlgKyj-hdjM"
      }
    },
    {
      "cell_type": "code",
      "source": [
        "#Importando las bibliotecas que usaremos\n",
        "from math import *\n",
        "import sympy as sp\n",
        "import numpy as np\n",
        "import matplotlib . pyplot as plt"
      ],
      "metadata": {
        "id": "8e-cybINhjKs"
      },
      "execution_count": 47,
      "outputs": []
    },
    {
      "cell_type": "code",
      "source": [
        "# Definimos la variable\n",
        "x = sp.symbols('x')"
      ],
      "metadata": {
        "id": "gA0aSS5kpt2C"
      },
      "execution_count": 48,
      "outputs": []
    },
    {
      "cell_type": "code",
      "source": [
        "#Definimos la función recordando que si son funciones trigonométricas en SymP se pone sp. ejem. sp.cos(x)\n",
        "def f(x):\n",
        "    return x**3-x-1  #aqui se modifica la función por la que desee"
      ],
      "metadata": {
        "id": "c_8R3t50hm2-"
      },
      "execution_count": 49,
      "outputs": []
    },
    {
      "cell_type": "code",
      "source": [
        "# Derivamos la función\n",
        "derivada = sp.diff(f(x), x)\n",
        "print(derivada)"
      ],
      "metadata": {
        "colab": {
          "base_uri": "https://localhost:8080/"
        },
        "id": "NyhNnnhE21Eo",
        "outputId": "d41056a8-3ebe-4b13-95be-b8ac879de2a3"
      },
      "execution_count": 50,
      "outputs": [
        {
          "output_type": "stream",
          "name": "stdout",
          "text": [
            "3*x**2 - 1\n"
          ]
        }
      ]
    },
    {
      "cell_type": "code",
      "source": [
        "#Teniendo en cuenta los intervalos\n",
        "print(\"Ingrese el intervalo de la funcion\")\n",
        "a0 =float(input(\"Ingrese  a: \"))\n",
        "b0 =float(input(\"Ingresa  b: \"))"
      ],
      "metadata": {
        "id": "5f0K6AsrzCDC",
        "colab": {
          "base_uri": "https://localhost:8080/"
        },
        "outputId": "f1765160-2642-417a-a12a-67709caf1813"
      },
      "execution_count": 51,
      "outputs": [
        {
          "name": "stdout",
          "output_type": "stream",
          "text": [
            "Ingrese el intervalo de la funcion\n",
            "Ingrese  a: 1\n",
            "Ingresa  b: 2\n"
          ]
        }
      ]
    },
    {
      "cell_type": "code",
      "source": [
        "# Ingreso datos de entrada para los diferentes métodos a trabajar\n",
        "a=float(input(\"Ingrese el valor de P0(Aproximacion inicial): \"))\n",
        "\n",
        "# guarda valores iniciales\n",
        "p0 = a\n",
        "\n",
        "#guarda valores iniciales del error y del número de iteraciones\n",
        "tol =float(input(\"Ingrese el valor de la tolerancia: \"))\n",
        "nmax = int(input(\"Ingrese el número máximo de iteraciones: \"))\n",
        "error = 100\n",
        "niter = 0"
      ],
      "metadata": {
        "id": "K0icCLGeh6yr",
        "colab": {
          "base_uri": "https://localhost:8080/"
        },
        "outputId": "9b78860f-fcca-429f-90b6-00dc4cbeaef3"
      },
      "execution_count": 52,
      "outputs": [
        {
          "name": "stdout",
          "output_type": "stream",
          "text": [
            "Ingrese el valor de P0(Aproximacion inicial): 1\n",
            "Ingrese el valor de la tolerancia: 0.01\n",
            "Ingrese el número máximo de iteraciones: 100\n"
          ]
        }
      ]
    },
    {
      "cell_type": "code",
      "source": [
        "# Método de Newton\n",
        "# evaluo el primer punto en la función\n",
        "p = f(x).evalf(subs={x: p0})\n",
        "#evaluo la derivada\n",
        "derivada_e = derivada.evalf(subs={x: p0})\n",
        "#se usa la fórmula y hayamos p\n",
        "pp= p0- (f(p0)/derivada_e)\n",
        "\n",
        "#se va imprimiendo la tabla\n",
        "print(\"# iter\\t\\t p0 \\t\\t f(p0) \\t\\t f'(p0) \\t\\t p \\t\\t error\")\n",
        "print(\"{0} \\t\\t {1:6.4f} \\t {2:6.4f} \\t {3:6.4f} \\t {4:6.4f} \\t {5:6.4f}\".format(niter, p0 , p , derivada_e , pp , error))\n",
        "\n",
        "while error > tol and niter < nmax:\n",
        "  # Actualizamos p0 para la siguiente iteración\n",
        "  p0 = pp\n",
        "  # Evaluamos  la función en el nuevo\n",
        "  p = f(x).evalf(subs={x: p0})\n",
        "\n",
        "  derivada_e = derivada.evalf(subs={x: p0})\n",
        "  # Se tiene la nueva aproximación\n",
        "  pp = p0 - (p / derivada_e)\n",
        "\n",
        "  # Calculamos el error\n",
        "  error = abs(pp-p0)\n",
        "\n",
        "  # se incrementa el contador de iteraciones\n",
        "  niter += 1\n",
        "\n",
        "  #se imprime la tabla\n",
        "  print(\"{0} \\t\\t {1:6.4f} \\t {2:6.4f} \\t {3:6.4f} \\t {4:6.4f} \\t {5:6.4f}\".format(niter, p0 , p , derivada_e , pp , error))\n",
        "\n",
        "#vemos si funcionó o falló el método\n",
        "if error <= tol:\n",
        "  print(\"La raíz de la función dada en el intervalo [{0:6.4f},{1:6.4f}] es {2:6.6f}\".format(a0 ,b0 , pp))\n",
        "else:\n",
        "  print(f\"El método falló después de {nmax} iteraciones.\")\n"
      ],
      "metadata": {
        "colab": {
          "base_uri": "https://localhost:8080/"
        },
        "id": "PvbQjk5BiHW7",
        "outputId": "6e81489c-3139-4852-fb9d-dca829240b19"
      },
      "execution_count": 53,
      "outputs": [
        {
          "output_type": "stream",
          "name": "stdout",
          "text": [
            "# iter\t\t p0 \t\t f(p0) \t\t f'(p0) \t\t p \t\t error\n",
            "0 \t\t 1.0000 \t -1.0000 \t 2.0000 \t 1.5000 \t 100.0000\n",
            "1 \t\t 1.5000 \t 0.8750 \t 5.7500 \t 1.3478 \t 0.1522\n",
            "2 \t\t 1.3478 \t 0.1007 \t 4.4499 \t 1.3252 \t 0.0226\n",
            "3 \t\t 1.3252 \t 0.0021 \t 4.2685 \t 1.3247 \t 0.0005\n",
            "La raíz de la función dada en el intervalo [1.0000,2.0000] es 1.324718\n"
          ]
        }
      ]
    },
    {
      "cell_type": "markdown",
      "source": [
        "Se tiene un ejemplo del código realizado, es decir, usando el método Newton se resuelve la función $$\n",
        "f(x) = x^3 - x - 1\n",
        "$$ con una aproximación $ P_0 = 1 $ y con un error $10^{-2}$"
      ],
      "metadata": {
        "id": "vjUhDxn3-6Dj"
      }
    }
  ]
}