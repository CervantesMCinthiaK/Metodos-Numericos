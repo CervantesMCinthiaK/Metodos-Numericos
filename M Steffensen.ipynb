{
  "nbformat": 4,
  "nbformat_minor": 0,
  "metadata": {
    "colab": {
      "provenance": [],
      "authorship_tag": "ABX9TyMX2ABk9LNxzMLCYiIUeLds",
      "include_colab_link": true
    },
    "kernelspec": {
      "name": "python3",
      "display_name": "Python 3"
    },
    "language_info": {
      "name": "python"
    }
  },
  "cells": [
    {
      "cell_type": "markdown",
      "metadata": {
        "id": "view-in-github",
        "colab_type": "text"
      },
      "source": [
        "<a href=\"https://colab.research.google.com/github/CervantesMCinthiaK/Metodos-Numericos/blob/main/M%20Steffensen.ipynb\" target=\"_parent\"><img src=\"https://colab.research.google.com/assets/colab-badge.svg\" alt=\"Open In Colab\"/></a>"
      ]
    },
    {
      "cell_type": "markdown",
      "source": [
        "# Método de Steffensen\n",
        "Alumna:Cinthia Karina Cervantes Martinez\n"
      ],
      "metadata": {
        "id": "00vLH2JfTOMp"
      }
    },
    {
      "cell_type": "code",
      "source": [
        "from math import *\n",
        "import numpy as np\n",
        "import sympy as sp #por si se ingresa funciones trigonometricas\n",
        "import matplotlib . pyplot as plt"
      ],
      "metadata": {
        "id": "-7kIM8qtTOYB"
      },
      "execution_count": 79,
      "outputs": []
    },
    {
      "cell_type": "code",
      "source": [
        "#El usuario ingresa la función que desea iterar\n",
        "funcion=(input(\"Ingrese la funcion: \"))"
      ],
      "metadata": {
        "colab": {
          "base_uri": "https://localhost:8080/"
        },
        "id": "NiyOuo9pUXUH",
        "outputId": "2c7b0345-6ea3-4b5d-af4c-737770811e6b"
      },
      "execution_count": 80,
      "outputs": [
        {
          "name": "stdout",
          "output_type": "stream",
          "text": [
            "Ingrese la funcion: (cos(x) + 3)/2\n"
          ]
        }
      ]
    },
    {
      "cell_type": "code",
      "source": [
        "#se define dicha función ingresada por el usuario\n",
        "def g(x):\n",
        "  return eval(funcion)"
      ],
      "metadata": {
        "id": "gjc0kzUu9WVZ"
      },
      "execution_count": 81,
      "outputs": []
    },
    {
      "cell_type": "code",
      "source": [
        "\n",
        "#teniendo en cuenta los intervalos\n",
        "print(\"Ingrese el intervalo de la funcion\")\n",
        "a0 = float(input(\"Ingrese  a: \"))\n",
        "b0 = float(input(\"Ingresa  b: \"))"
      ],
      "metadata": {
        "colab": {
          "base_uri": "https://localhost:8080/"
        },
        "id": "M1Jz3Y4rRpl1",
        "outputId": "d0b49281-6be7-427c-a2af-25b89de2000d"
      },
      "execution_count": 82,
      "outputs": [
        {
          "name": "stdout",
          "output_type": "stream",
          "text": [
            "Ingrese el intervalo de la funcion\n",
            "Ingrese  a: 1\n",
            "Ingresa  b: 2\n"
          ]
        }
      ]
    },
    {
      "cell_type": "code",
      "source": [
        "# Ingreso datos de entrada para los diferentes métodos a trabajar\n",
        "a= float(input(\"Ingrese el valor de P0(Aproximacion inicial): \"))\n",
        "\n",
        "# guarda valores iniciales\n",
        "p0 = a\n",
        "\n",
        "#guarda valores iniciales del error y del número de iteraciones\n",
        "tol =float(input(\"Ingrese el valor de la tolerancia: \"))\n",
        "nmax = int(input(\"Ingrese el número máximo de iteraciones: \"))\n",
        "error = 100\n",
        "niter = 0"
      ],
      "metadata": {
        "colab": {
          "base_uri": "https://localhost:8080/"
        },
        "id": "ASUfMIk79y40",
        "outputId": "d1d0523d-6022-49c1-e10b-856141d5ba24"
      },
      "execution_count": 83,
      "outputs": [
        {
          "name": "stdout",
          "output_type": "stream",
          "text": [
            "Ingrese el valor de P0(Aproximacion inicial): 1.5\n",
            "Ingrese el valor de la tolerancia: 0.00001\n",
            "Ingrese el número máximo de iteraciones: 100\n"
          ]
        }
      ]
    },
    {
      "cell_type": "code",
      "source": [
        "# Método de Steffense\n",
        "# Cálculo inicial\n",
        "p1 = g(p0)\n",
        "p2 = g(p1)\n",
        "p = p0 - (p1 - p0)**2 / (p2 - 2 * p1 + p0)\n",
        "#voy imprimiendo la tabla\n",
        "print(\"# iter\\t\\t p0 \\t\\t g(p) \\t\\t g(g(p)) \\t\\t p \\t\\t  error\")\n",
        "print(\"{0} \\t\\t {1:6.6f} \\t {2:6.6f} \\t {3:6.6f} \\t {4:6.6f} \\t {5:6.6f}\".format(niter, p0, p1, p2, p, error))\n",
        "# ciclo iterativo\n",
        "while error > tol and niter < nmax:\n",
        "    niter += 1\n",
        "\n",
        "    # Paso 1: Actualizar p0, p1 y p2\n",
        "    p0 = p  # Actualiza p0 con el nuevo valor\n",
        "    p1 = g(p0)  # Calcula g(p0) para obtener el nuevo p1\n",
        "    p2 = g(p1)  # Calcula g(p1) para obtener el nuevo p2\n",
        "\n",
        "    # Paso 2: Calcular p usando la fórmula de Steffensen\n",
        "    p = p0 - (p1 - p0)**2 / (p2 - 2 * p1 + p0)\n",
        "\n",
        "\n",
        "    # Calcular el nuevo error\n",
        "    error = abs(p - p0)\n",
        "\n",
        "    # Imprime los resultados de la iteración actual\n",
        "    print(\"{0} \\t\\t {1:6.6f} \\t {2:6.6f} \\t {3:6.6f} \\t {4:6.6f} \\t {5:6.6f}\".format(niter, p0, p1, p2, p, error))\n",
        "    # Actualiza p0 para la próxima iteración\n",
        "    p0 = p\n",
        "\n",
        "# Verifica si el método funciono o no\n",
        "if error <= tol:\n",
        "    print()#dejar un espacio\n",
        "    print(\"La raíz de la función dada en el intervalo  [{0:6.4f}, {1:6.4f}] es {2:6.6f}\".format(a0,b0,p))\n",
        "else:\n",
        "    print(f\"El método falló después de {nmax} iteraciones.\")\n",
        "\n",
        "    #se agrego una tabla donde se encuentra p0, p1=g(p0) , p2=g(g(p0)), p y el error.\n",
        "    #aclarando que la raiz se encuentra en p (donde se evalua la formula de Steffensen)\n"
      ],
      "metadata": {
        "colab": {
          "base_uri": "https://localhost:8080/"
        },
        "id": "IrPMDIUE-3KZ",
        "outputId": "b57f9300-a721-479a-b2e4-6f84b8285957"
      },
      "execution_count": 84,
      "outputs": [
        {
          "output_type": "stream",
          "name": "stdout",
          "text": [
            "# iter\t\t p0 \t\t g(p) \t\t g(g(p)) \t\t p \t\t  error\n",
            "0 \t\t 1.500000 \t 1.535369 \t 1.517710 \t 1.523591 \t 100.000000\n",
            "1 \t\t 1.523591 \t 1.523594 \t 1.523592 \t 1.523593 \t 0.000002\n",
            "\n",
            "La raíz de la función dada en el intervalo  [1.0000, 2.0000] es 1.523593\n"
          ]
        }
      ]
    },
    {
      "cell_type": "markdown",
      "source": [
        "Se tiene un ejemplo del código realizado, es decir, usando el método punto fijo se resuelve la función  $$\n",
        "f(x) = \\cos(x) - 2x + 3 = 0\n",
        "$$\n",
        " con una aproximación $ P_0 = 1.5 $ y con un error $10^{-5}$ el cual se reescribió de la siguiente manera:  $$\n",
        "g(x)=\\frac{\\cos(x) + 3}{2}\n",
        "$$\n",
        "debido a que en esa función se encuentra una raíz dentro del intervalo [1,2]\n"
      ],
      "metadata": {
        "id": "VhQS5e1Lrmi3"
      }
    }
  ]
}