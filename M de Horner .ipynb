{
  "nbformat": 4,
  "nbformat_minor": 0,
  "metadata": {
    "colab": {
      "provenance": [],
      "authorship_tag": "ABX9TyN4S4IzsVGzfxLz/k6zEXTR",
      "include_colab_link": true
    },
    "kernelspec": {
      "name": "python3",
      "display_name": "Python 3"
    },
    "language_info": {
      "name": "python"
    }
  },
  "cells": [
    {
      "cell_type": "markdown",
      "metadata": {
        "id": "view-in-github",
        "colab_type": "text"
      },
      "source": [
        "<a href=\"https://colab.research.google.com/github/CervantesMCinthiaK/Metodos-Numericos/blob/main/M%20de%20Horner%20.ipynb\" target=\"_parent\"><img src=\"https://colab.research.google.com/assets/colab-badge.svg\" alt=\"Open In Colab\"/></a>"
      ]
    },
    {
      "cell_type": "markdown",
      "source": [
        "# Método de Horner con Newton\n",
        "Alumna:Cinthia Karina Cervantes Martinez"
      ],
      "metadata": {
        "id": "JrppKTdjd-nJ"
      }
    },
    {
      "cell_type": "code",
      "source": [
        "#Importando las bibliotecas que usaremos\n",
        "from math import *\n",
        "import sympy as sp\n",
        "import numpy as np\n",
        "import matplotlib . pyplot as plt"
      ],
      "metadata": {
        "id": "DDt3SccRd--W"
      },
      "execution_count": 264,
      "outputs": []
    },
    {
      "cell_type": "code",
      "source": [
        "#Estos datos principalmente es utilizado para el  método de horner\n",
        "# Ingreso datos de entrada para los diferentes métodos a trabajar\n",
        "a=float(input(\"Ingrese el valor de X0: \"))\n",
        "\n",
        "# guarda valores iniciales\n",
        "x0 = a\n",
        "\n",
        "#guarda valores iniciales del polinomio a_0, a_1, a_2...\n",
        "grado=int(input(\"Ingrese de que grado es el polinomio: \"))\n",
        "coeficientes = []\n",
        "for i in range(grado + 1):\n",
        "    coefic = float(input(f\"Ingrese el coeficiente a{i} (para x^{grado - i}): \"))\n",
        "    coeficientes.append(coefic) #almacena cada coeficiente en la lista"
      ],
      "metadata": {
        "colab": {
          "base_uri": "https://localhost:8080/"
        },
        "id": "e_9Q1AwNda-5",
        "outputId": "dcbebe1f-8c47-4446-db3d-46012e48fd22"
      },
      "execution_count": 265,
      "outputs": [
        {
          "name": "stdout",
          "output_type": "stream",
          "text": [
            "Ingrese el valor de X0: -2\n",
            "Ingrese de que grado es el polinomio: 4\n",
            "Ingrese el coeficiente a0 (para x^4): 2\n",
            "Ingrese el coeficiente a1 (para x^3): 0\n",
            "Ingrese el coeficiente a2 (para x^2): -3\n",
            "Ingrese el coeficiente a3 (para x^1): 3\n",
            "Ingrese el coeficiente a4 (para x^0): -4\n"
          ]
        }
      ]
    },
    {
      "cell_type": "code",
      "source": [
        "#Son los datos que se pide respecto al metodo de Newton\n",
        "#guarda valores iniciales  del número de iteraciones\n",
        "nmax = int(input(\"Ingrese el número máximo de iteraciones (x_n): \"))\n",
        "niter = 0"
      ],
      "metadata": {
        "colab": {
          "base_uri": "https://localhost:8080/"
        },
        "id": "iNLd6bNe3Dp8",
        "outputId": "2c93dd20-0566-4363-cf79-e5d060863b07"
      },
      "execution_count": 266,
      "outputs": [
        {
          "name": "stdout",
          "output_type": "stream",
          "text": [
            "Ingrese el número máximo de iteraciones (x_n): 3\n"
          ]
        }
      ]
    },
    {
      "cell_type": "code",
      "source": [
        "# Método de Horner\n",
        "def evaluar_polynomial(coeficientes, x0):\n",
        "    # Paso 1: Inicializar y y z\n",
        "    y = coeficientes[0]  # y = a_n, que representa P(x0)\n",
        "    z = coeficientes[0]  # z = a_n, que se usará para calcular Q(x0)\n",
        "\n",
        "    # Inicializar tabla\n",
        "    print(\"# iter\\t\\t y (P(x0))\\tz(P'(x0))\")\n",
        "    print(\"=\" * 40) #imprime una linea\n",
        "\n",
        "    # Mostrar resultados iniciales\n",
        "    print(\"{0} \\t\\t {1:6.4f} \\t {2:6.4f}\".format(niter, y , z ))\n",
        "\n",
        "    # Paso 2: Evaluación usando división sintética\n",
        "    for j in range(1, len(coeficientes)):\n",
        "        # Calcular b_j para P\n",
        "        y = x0 * y + coeficientes[j]  # Actualizar P(x0)\n",
        "\n",
        "        # Calcular b_{j-1} para Q solo si no es la última iteración\n",
        "        if j < len(coeficientes) - 1:\n",
        "            z = x0 * z + y  # Actualizar Q(x0)\n",
        "\n",
        "        # Mostrar resultados en cada iteración\n",
        "        if j < len(coeficientes) - 1:\n",
        "            print(f\"{j:<10}\\t{y:<15.5f}\\t{z:<15.5f}\")  # Mostrar Q(x0) si no es la última iteración\n",
        "        else:\n",
        "            print(f\"{j:<10}\\t{y:<15.5f}\\t{'':<15}\")  # Dejar vacío en la última iteración\n",
        "\n",
        "    # Paso 3: Calcular b0 para P\n",
        "    b0 = x0 * y + coeficientes[0]  # Actualizar P(x0) para a0\n",
        "    #se guardan los valores de y, z\n",
        "    px = y\n",
        "    p_prima = z\n",
        "\n",
        "    return px,p_prima"
      ],
      "metadata": {
        "id": "jhoJHWBdgmPB"
      },
      "execution_count": 267,
      "outputs": []
    },
    {
      "cell_type": "code",
      "source": [
        "# Método de Newton para encontrar ceros\n",
        "def metodo_newton(coeficientes, x0, nmax):\n",
        "    for i in range(nmax):\n",
        "        print(f\"\\nIteración {i + 1} con x0 = {x0:.6}:\")\n",
        "        print(\"Realizando con metodo de horner: \\n\")\n",
        "        px, p_prima = evaluar_polynomial(coeficientes, x0)  # Evaluar P(x0) y Q(x0)\n",
        "\n",
        "        # Calculamos la nueva aproximación\n",
        "        x_nuevo = x0 - (px / p_prima)\n",
        "        # Llamada a la función de Newton\n",
        "        print(f\"\\nResultado final: P({x0:.5f}) = {px:.5f}, P'({x0:.5f}) = {p_prima:.5f}\")\n",
        "        # Imprimir resultados finales\n",
        "        print(f\"Nueva aproximación: x{i + 1} = {x_nuevo:.5f}\\n\")\n",
        "        x0=x_nuevo\n",
        "    return x0\n",
        "resultado = metodo_newton(coeficientes, x0, nmax)\n",
        "print(f\"\\nCero aproximado real: {resultado:.5f}\")"
      ],
      "metadata": {
        "colab": {
          "base_uri": "https://localhost:8080/"
        },
        "id": "e-CnCLZeWl-U",
        "outputId": "e2c33f22-e9c4-4b1e-b985-4d604143d80b"
      },
      "execution_count": 268,
      "outputs": [
        {
          "output_type": "stream",
          "name": "stdout",
          "text": [
            "\n",
            "Iteración 1 con x0 = -2.0:\n",
            "Realizando con metodo de horner: \n",
            "\n",
            "# iter\t\t y (P(x0))\tz(P'(x0))\n",
            "========================================\n",
            "0 \t\t 2.0000 \t 2.0000\n",
            "1         \t-4.00000       \t-8.00000       \n",
            "2         \t5.00000        \t21.00000       \n",
            "3         \t-7.00000       \t-49.00000      \n",
            "4         \t10.00000       \t               \n",
            "\n",
            "Resultado final: P(-2.00000) = 10.00000, P'(-2.00000) = -49.00000\n",
            "Nueva aproximación: x1 = -1.79592\n",
            "\n",
            "\n",
            "Iteración 2 con x0 = -1.79592:\n",
            "Realizando con metodo de horner: \n",
            "\n",
            "# iter\t\t y (P(x0))\tz(P'(x0))\n",
            "========================================\n",
            "0 \t\t 2.0000 \t 2.0000\n",
            "1         \t-3.59184       \t-7.18367       \n",
            "2         \t3.45065        \t16.35194       \n",
            "3         \t-3.19708       \t-32.56382      \n",
            "4         \t1.74169        \t               \n",
            "\n",
            "Resultado final: P(-1.79592) = 1.74169, P'(-1.79592) = -32.56382\n",
            "Nueva aproximación: x2 = -1.74243\n",
            "\n",
            "\n",
            "Iteración 3 con x0 = -1.74243:\n",
            "Realizando con metodo de horner: \n",
            "\n",
            "# iter\t\t y (P(x0))\tz(P'(x0))\n",
            "========================================\n",
            "0 \t\t 2.0000 \t 2.0000\n",
            "1         \t-3.48487       \t-6.96973       \n",
            "2         \t3.07214        \t15.21643       \n",
            "3         \t-2.35301       \t-28.86662      \n",
            "4         \t0.09996        \t               \n",
            "\n",
            "Resultado final: P(-1.74243) = 0.09996, P'(-1.74243) = -28.86662\n",
            "Nueva aproximación: x3 = -1.73897\n",
            "\n",
            "\n",
            "Cero aproximado real: -1.73897\n"
          ]
        }
      ]
    },
    {
      "cell_type": "markdown",
      "source": [
        "Se tiene un ejemplo del código realizado, es decir, usando el método Horner y Nexwton se resuelve el polinomio para una aproximación a 0  $$\n",
        "P(x) = 2x^4-3x^2+3x-4\n",
        "$$ con $ X_0 =-2 $  evaluando $P(x_n)$ y $ P'(x)$\n",
        "para cada iteración $x_n=3$"
      ],
      "metadata": {
        "id": "jYS6uEUnjhnV"
      }
    }
  ]
}