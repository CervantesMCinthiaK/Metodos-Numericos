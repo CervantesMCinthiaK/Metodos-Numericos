{
  "nbformat": 4,
  "nbformat_minor": 0,
  "metadata": {
    "colab": {
      "provenance": [],
      "authorship_tag": "ABX9TyOHmeRETkghcOge2IxdljId",
      "include_colab_link": true
    },
    "kernelspec": {
      "name": "python3",
      "display_name": "Python 3"
    },
    "language_info": {
      "name": "python"
    }
  },
  "cells": [
    {
      "cell_type": "markdown",
      "metadata": {
        "id": "view-in-github",
        "colab_type": "text"
      },
      "source": [
        "<a href=\"https://colab.research.google.com/github/CervantesMCinthiaK/Metodos-Numericos/blob/main/Factorizacion%20LU.ipynb\" target=\"_parent\"><img src=\"https://colab.research.google.com/assets/colab-badge.svg\" alt=\"Open In Colab\"/></a>"
      ]
    },
    {
      "cell_type": "markdown",
      "source": [
        "#Factorización LU\n",
        "Cervantes Martinez Cinthia Karina"
      ],
      "metadata": {
        "id": "S1nSq_N6J2Jf"
      }
    },
    {
      "cell_type": "code",
      "source": [
        "#Definiremos la biblioteca a usar\n",
        "import numpy as np"
      ],
      "metadata": {
        "id": "fFYjzQosKGHA"
      },
      "execution_count": 141,
      "outputs": []
    },
    {
      "cell_type": "code",
      "source": [
        "# Definimos la matriz que deseamos factorizar (se edita si gusta otra matriz)\n",
        "A = np.array([[1, 1, 0, 3],\n",
        "              [2, 1, -1, 1],\n",
        "              [3, -1, -1, 2],\n",
        "              [-1, 2, 3, -1]], dtype=float)\n",
        "\n",
        "b = np.array([4, 1, -3, 4], dtype=float)"
      ],
      "metadata": {
        "id": "_Sej-9pAs_j6"
      },
      "execution_count": 142,
      "outputs": []
    },
    {
      "cell_type": "code",
      "source": [
        "def lu_factorization(A):\n",
        "    n = A.shape[0]  # Obtiene el tamaño de la matriz A\n",
        "\n",
        "    # Copia  la matriz original para ir modificandola\n",
        "    A_copy = A.copy()\n",
        "\n",
        "    # Inicializa L y U\n",
        "    L = np.eye(n)  # Matriz L\n",
        "    U = A_copy.copy()  # U es inicialmente igual a A\n",
        "\n",
        "    print(f\"Matriz inicial A:\")\n",
        "    print(A_copy)\n",
        "\n",
        "    # Factorizacion LU\n",
        "    for i in range(n):\n",
        "        # Verificamos si el elemento diagonal de U es 0\n",
        "        if U[i, i] == 0:\n",
        "            raise ValueError(f\"Factorizacion imposible: la matriz es singular en el paso {i+1} (U[{i}, {i}] = 0).\")\n",
        "\n",
        "        # Eliminacion para obtener U y llenar L\n",
        "        for j in range(i+1, n):\n",
        "            factor = U[j][i] / U[i][i]  # El factor de eliminacion\n",
        "            U[j] = U[j] - factor * U[i]  # Actualizamos la fila j de U\n",
        "            L[j][i] = factor  # El factor de eliminacion va a la matriz L\n",
        "            print(f\"(E{j+1} - {factor:.2f}E{i+1}) -> E{j+1}\")\n",
        "            print(U)\n",
        "\n",
        "        # Verificamos si el elemento diagonal en U sigue siendo 0 despues de cada paso\n",
        "        if U[i, i] == 0:\n",
        "            raise ValueError(f\"Factorización imposible: la matriz es singular después de la modificación en el paso {i+1} (U[{i}, {i}] = 0).\")\n",
        "\n",
        "    # En el final verificamos el ultimo elemento en la diagonal de U\n",
        "    if U[n-1, n-1] == 0:\n",
        "        raise ValueError(f\"Factorizacion imposible: la matriz es singular (U[{n-1}, {n-1}] = 0).\")\n",
        "\n",
        "    print(\"\\n Asi la matriz LU es:\\n\")\n",
        "    print(\"\\nMatriz L  (triangular inferior):\\n\")\n",
        "    print(L)\n",
        "    print(\"\\nMatriz U  (triangular superior):\\n\")\n",
        "    print(U)\n",
        "\n",
        "    return L, U\n"
      ],
      "metadata": {
        "id": "_va_28n0spOA"
      },
      "execution_count": 143,
      "outputs": []
    },
    {
      "cell_type": "code",
      "source": [
        "#Ojo: Este paso es adicional si queremos saber el resultado del sistema usando LU\n",
        "# Sustituciomos hacia adelante para resolver L * y = b\n",
        "def forward_substitution(L, b):\n",
        "    n = len(L)\n",
        "    y = np.zeros(n)\n",
        "\n",
        "    print(\"\\nResolviendo L * y = b con sustitucion hacia adelante:\")\n",
        "    for i in range(n):\n",
        "        y[i] = b[i] - np.dot(L[i, :i], y[:i])  # Resolviendo para y[i]\n",
        "        print(f\"  y[{i}] = {y[i]}\")\n",
        "\n",
        "    return y"
      ],
      "metadata": {
        "id": "SDIDqujfsy2n"
      },
      "execution_count": 144,
      "outputs": []
    },
    {
      "cell_type": "code",
      "source": [
        "# Sustitucion hacia atras para resolver U * x = y\n",
        "def backward_substitution(U, y):\n",
        "    n = len(U)\n",
        "    x = np.zeros(n)\n",
        "\n",
        "    print(\"\\nResolviendo U * x = y con sustitucion hacia atras:\")\n",
        "    for i in range(n-1, -1, -1):  # Iteramos de abajo hacia arriba\n",
        "        x[i] = (y[i] - np.dot(U[i, i+1:], x[i+1:])) / U[i, i]  # Resolviendo para x[i]\n",
        "        print(f\"  x[{i}] = {x[i]}\")\n",
        "\n",
        "    return x"
      ],
      "metadata": {
        "id": "9EKrEZMKs3wZ"
      },
      "execution_count": 145,
      "outputs": []
    },
    {
      "cell_type": "code",
      "source": [
        "#Mandamos a imprimir\n",
        "try:\n",
        "    # Factorizacion LU de la matriz A\n",
        "    L, U = lu_factorization(A)\n",
        "\n",
        "    # Si la factorizacion fue exitosa, resolvemos el sistema A * x = b\n",
        "    # Resolvemos el sistema L * y = b usando sustitucion hacia adelante\n",
        "    y = forward_substitution(L, b)\n",
        "\n",
        "    # Resolvemos el sistema U * x = y usando sustitucion hacia atras\n",
        "    x = backward_substitution(U, y)\n",
        "\n",
        "    print(\"\\n Por lo tanto, la Solucion del sistema A * x = b: es\")\n",
        "    print(x)\n",
        "\n",
        "except ValueError as e:\n",
        "    print(e)  # Si ocurre un error de factorizacion, lo imprimimos y lo detenemos."
      ],
      "metadata": {
        "colab": {
          "base_uri": "https://localhost:8080/"
        },
        "id": "eGMo4JqmtFKd",
        "outputId": "713447ae-26a8-4ca0-f43f-018e3ed737ff"
      },
      "execution_count": 146,
      "outputs": [
        {
          "output_type": "stream",
          "name": "stdout",
          "text": [
            "Matriz inicial A:\n",
            "[[ 1.  1.  0.  3.]\n",
            " [ 2.  1. -1.  1.]\n",
            " [ 3. -1. -1.  2.]\n",
            " [-1.  2.  3. -1.]]\n",
            "(E2 - 2.00E1) -> E2\n",
            "[[ 1.  1.  0.  3.]\n",
            " [ 0. -1. -1. -5.]\n",
            " [ 3. -1. -1.  2.]\n",
            " [-1.  2.  3. -1.]]\n",
            "(E3 - 3.00E1) -> E3\n",
            "[[ 1.  1.  0.  3.]\n",
            " [ 0. -1. -1. -5.]\n",
            " [ 0. -4. -1. -7.]\n",
            " [-1.  2.  3. -1.]]\n",
            "(E4 - -1.00E1) -> E4\n",
            "[[ 1.  1.  0.  3.]\n",
            " [ 0. -1. -1. -5.]\n",
            " [ 0. -4. -1. -7.]\n",
            " [ 0.  3.  3.  2.]]\n",
            "(E3 - 4.00E2) -> E3\n",
            "[[ 1.  1.  0.  3.]\n",
            " [ 0. -1. -1. -5.]\n",
            " [ 0.  0.  3. 13.]\n",
            " [ 0.  3.  3.  2.]]\n",
            "(E4 - -3.00E2) -> E4\n",
            "[[  1.   1.   0.   3.]\n",
            " [  0.  -1.  -1.  -5.]\n",
            " [  0.   0.   3.  13.]\n",
            " [  0.   0.   0. -13.]]\n",
            "(E4 - 0.00E3) -> E4\n",
            "[[  1.   1.   0.   3.]\n",
            " [  0.  -1.  -1.  -5.]\n",
            " [  0.   0.   3.  13.]\n",
            " [  0.   0.   0. -13.]]\n",
            "\n",
            " Asi la matriz LU es:\n",
            "\n",
            "\n",
            "Matriz L  (triangular inferior):\n",
            "\n",
            "[[ 1.  0.  0.  0.]\n",
            " [ 2.  1.  0.  0.]\n",
            " [ 3.  4.  1.  0.]\n",
            " [-1. -3.  0.  1.]]\n",
            "\n",
            "Matriz U  (triangular superior):\n",
            "\n",
            "[[  1.   1.   0.   3.]\n",
            " [  0.  -1.  -1.  -5.]\n",
            " [  0.   0.   3.  13.]\n",
            " [  0.   0.   0. -13.]]\n",
            "\n",
            "Resolviendo L * y = b con sustitucion hacia adelante:\n",
            "  y[0] = 4.0\n",
            "  y[1] = -7.0\n",
            "  y[2] = 13.0\n",
            "  y[3] = -13.0\n",
            "\n",
            "Resolviendo U * x = y con sustitucion hacia atras:\n",
            "  x[3] = 1.0\n",
            "  x[2] = 0.0\n",
            "  x[1] = 2.0\n",
            "  x[0] = -1.0\n",
            "\n",
            " Por lo tanto, la Solucion del sistema A * x = b: es\n",
            "[-1.  2.  0.  1.]\n"
          ]
        }
      ]
    },
    {
      "cell_type": "markdown",
      "source": [
        "En este ejemplo se determina la factorización LU para la matriz \\( A \\) en el sistema lineal \\( A x = b \\), donde:\n",
        "\n",
        "\\[$\n",
        "A$ = \\begin{bmatrix}\n",
        "1 & 2 & 3 & -1 \\\\\n",
        "2 & 1 & -1 & 3 \\\\\n",
        "3 & -1 & -1 & 1 \\\\\n",
        "-1 & 3 & 1 & 2\n",
        "\\end{bmatrix}\n",
        "\n",
        "$b$ = \\begin{bmatrix}\n",
        "4 \\\\\n",
        "1 \\\\\n",
        "-3 \\\\\n",
        "4\n",
        "\\end{bmatrix}\n",
        "\\]\n",
        "\n"
      ],
      "metadata": {
        "id": "CnDsDkLaCg4J"
      }
    }
  ]
}